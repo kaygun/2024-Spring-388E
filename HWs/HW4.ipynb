{
 "cells": [
  {
   "cell_type": "markdown",
   "id": "30710e0d-2b76-4bf2-ac7e-a8ab94d65e96",
   "metadata": {},
   "source": [
    "# HW4\n",
    "\n",
    "## Overall Rules\n",
    "\n",
    "- Do not upload data files with your homework since the datasets are large and already available as a library. \n",
    "- Document all of your steps by writing appropriate markdown cells in your notebook. Refrain from using code comments to explain what has been done.\n",
    "- Avoid duplicating code. Do not copy and paste code from one cell to another. If copying and pasting is necessary, write a suitable function for the task at hand and call that function.\n",
    "- Document your use of LLMs (ChatGPT, Claude, Code Pilot etc). Either take screenshots of your steps and include them with this notebook, or give me a full log (both questions and answers) in a markdown file named HW4-LLM-LOG.md.\n",
    "\n",
    "Failure to adhere to these guidelines will result in a 25-point deduction for each infraction.\n",
    "\n",
    "## The Datasets\n",
    "\n",
    "In this homework, we are going to use the MNIST dataset and Olivetti Faces datasets."
   ]
  },
  {
   "cell_type": "code",
   "execution_count": 1,
   "id": "29a64b7d-6b7e-4c77-ade2-7d91886fb30f",
   "metadata": {},
   "outputs": [],
   "source": [
    "import sklearn.datasets as skds\n",
    "\n",
    "mnist = skds.load_digits()\n",
    "faces = skds.fetch_olivetti_faces()"
   ]
  },
  {
   "cell_type": "markdown",
   "id": "c03d91f9-3cfd-4432-b66b-8cbf285c9dd9",
   "metadata": {},
   "source": [
    "## The Task\n",
    "\n",
    "Your task is to find the best supervised machine learning algorithm that predicts the target variables from the independent variables. You must test **all** of the supervised classification algorithms we learned in this class on both datasets. \n",
    "\n",
    "In doing your experiments please pay attention to the following issues:\n",
    "\n",
    "- In train-test-split phase, you must use an appropriate stratification method. \n",
    "- In testing the algorithms, you must use an appropriate cross-validation method that gives accuracy/precision/recall with a confidence interval. Do not trust the default setting on cross-validation functions. Find the correct way of stratifying the dataset.\n",
    "- In testing the ensemble algorithms, you must test both ensemble schemes (one-vs-one and one-vs-rest) in your cross-validation methods.\n",
    "- In testing all algorithms, record how long it takes to run the experiment.\n",
    "\n",
    "Do your experiments, and display your results (accuracy/precision/recall/runtime with the confidence intervals) as a table. Decide which algorithm is your choice for each dataset. Write a detailed analysis of the results displayed in the table. In your analyses, I would like to see why you have chosen *your best model*."
   ]
  },
  {
   "cell_type": "code",
   "execution_count": null,
   "id": "cf953d40-8707-44d2-9874-2994219ec4a0",
   "metadata": {},
   "outputs": [],
   "source": []
  }
 ],
 "metadata": {
  "kernelspec": {
   "display_name": "Python 3 (ipykernel)",
   "language": "python",
   "name": "python3"
  },
  "language_info": {
   "codemirror_mode": {
    "name": "ipython",
    "version": 3
   },
   "file_extension": ".py",
   "mimetype": "text/x-python",
   "name": "python",
   "nbconvert_exporter": "python",
   "pygments_lexer": "ipython3",
   "version": "3.12.3"
  }
 },
 "nbformat": 4,
 "nbformat_minor": 5
}
