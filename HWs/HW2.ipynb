{
 "cells": [
  {
   "cell_type": "code",
   "execution_count": 9,
   "id": "f93e0253-589f-4508-9841-52b033623b62",
   "metadata": {},
   "outputs": [],
   "source": [
    "import pandas as pd\n",
    "import numpy as np\n",
    "import wbgapi as wb\n",
    "import yfinance as yf"
   ]
  },
  {
   "cell_type": "markdown",
   "id": "f1c4e96c-9cf1-48a1-a016-095790d5c8af",
   "metadata": {},
   "source": [
    "# Overall Rules\n",
    "\n",
    "- Refrain from saving datasets locally. You may experiment with your answers on a locally saved version of the datasets, but do not upload your local files with your homework as the datasets are very large. In your submitted answers datasets should be read from the original source URL.\n",
    "- Document all of your steps by writing appropriate markdown cells in your notebook. Refrain from using code comments to explain what has been done.\n",
    "- Avoid duplicating code. Do not copy and paste code from one cell to another. If copying and pasting is necessary, write a suitable function for the task at hand and call that function.\n",
    "- Document your use of LLMs (ChatGPT, Claude, Code Pilot etc). Either take screenshots of your steps and include them with this notebook, or give me a full log (both questions and answers) in a markdown file named HW2-LLM-LOG.md.\n",
    "\n",
    "Failure to adhere to these guidelines will result in a 25-point deduction for each infraction."
   ]
  },
  {
   "cell_type": "markdown",
   "id": "610bc3df-009c-4d2d-929f-bcf3903fc61d",
   "metadata": {},
   "source": [
    "# HW2\n",
    "\n",
    "## Q1\n",
    "\n",
    "There are 22 countries surrounding the Mediterranean Sea: Spain, France, Monaco, Italy, Slovenia, Croatia, Bosnia and Herzegovina, Montenegro, Albania, Greece, Turkey, Syria, Lebanon, Israel, Palestine, Egypt, Libya, Tunisia, Algeria, and Morocco, with two island countries Malta and Cyprus.\n",
    "\n",
    "1. Get the following data for every country in the list above from the World Bank Data server (using the `wbgapi` library)\n",
    "\n",
    "- Adult female literacy (SE.ADT.LITR.FE.ZS)\n",
    "- Adult female workforce participation rate (SL.TLF.ACTI.ZS)\n",
    "- Child mortality rate (SP.DYN.IMRT.IN)\n",
    "- Gini index (SI.POV.GINI)\n",
    "- Life expectancy (SP.DYN.LE00.IN)\n",
    "- GDP (NY.GDP.PCAP.CD)\n",
    "\n",
    "2. Write a function that does linear regression for Log(mortality) against the other variables (except mortality).\n",
    "3. Analyze the regression results for Spain, France, Turkey, Syria, and Israel.\n",
    "4. Analyze the results for 2 other countries of your choice."
   ]
  },
  {
   "cell_type": "code",
   "execution_count": 8,
   "id": "fc223403-0bad-4f1d-981a-27f033b83938",
   "metadata": {},
   "outputs": [],
   "source": []
  },
  {
   "cell_type": "markdown",
   "id": "a7cdca49-3289-4756-bed6-e282a3087286",
   "metadata": {},
   "source": [
    "## Q2\n",
    "\n",
    "Get the following commodity price data from yahoo finance using the `yfinance` library:\n",
    "\n",
    "- Silver (SI=F)\n",
    "- Copper (HG=F)\n",
    "- Platinum (PL=F)\n",
    "- Gold (GC=F)\n",
    "- Palladium (PA=F)\n",
    "\n",
    "1. Write a linear regression model that relates the gold futures in terms of the other precious metals.\n",
    "2. Analyze the regression results.\n",
    "3. Does the model improve if we add interaction terms? Explain.\n",
    "4. Now, do the same for each futures in the list above."
   ]
  },
  {
   "cell_type": "code",
   "execution_count": null,
   "id": "04146df8-352a-4804-a8c7-d0d6d8974742",
   "metadata": {},
   "outputs": [],
   "source": []
  },
  {
   "cell_type": "markdown",
   "id": "a0a96c47-c83d-47bf-b3ac-29d2b2567f95",
   "metadata": {},
   "source": [
    "## Q3\n",
    "\n",
    "Use the *Acoustic Extinguisher Fire Dataset* from Murat Köklü's [data server](https://www.muratkoklu.com/datasets/).\n",
    "\n",
    "1. Explore the dataset, and project it to 2D space using PCA and LDA. Color the data points using the `STATUS` column.\n",
    "2. Construct an SVM model to model the `STATUS` column and measure its quality using Accuracy, Precision, Recall, and F-1.\n",
    "3. Construct a Logistic Regression model to model the `STATUS` column and measure its quality using Accuracy, Precision, Recall, and F-1.\n",
    "4. Using the LR model, determine which variables affect the most the `STATUS` column."
   ]
  },
  {
   "cell_type": "code",
   "execution_count": null,
   "id": "dc2fc757-70a3-4a7d-a790-e8c68db3d51a",
   "metadata": {},
   "outputs": [],
   "source": []
  },
  {
   "cell_type": "markdown",
   "id": "57c644d0-103a-44e0-a717-2ca2ccfba14b",
   "metadata": {},
   "source": [
    "## Q4\n",
    "\n",
    "Use the hyperspectral image data (ROSIS sensor data over Pavia Italy) we used for Question 2 from HW1 for this question.\n",
    "\n",
    "1. Load both the image data and the ground truth data. Reshape the image and name is as `vectors` and the ground truth data as `labels`. \n",
    "2. Remove all data points whose label is 0.\n",
    "3. Write a function that construct a multi-label logistic regression model relating `vectors` to `labels`, and analyzes the accuracy using a correct statistical methodology. Analyze the accuracy results.\n",
    "4. Now, run a model once over a single training and test set. Report the accuracy, precision, recall, and F1 per label basis. \n",
    "5. Repeat (3) and (4) for a multi-label SVM model.\n",
    "6. Construct confusion matrices over a single run for both LR and SVM, and compare. Present your conclusions."
   ]
  },
  {
   "cell_type": "code",
   "execution_count": null,
   "id": "e7d84779-fba1-405a-8657-063b138c2aee",
   "metadata": {},
   "outputs": [],
   "source": []
  }
 ],
 "metadata": {
  "kernelspec": {
   "display_name": "Python 3 (ipykernel)",
   "language": "python",
   "name": "python3"
  },
  "language_info": {
   "codemirror_mode": {
    "name": "ipython",
    "version": 3
   },
   "file_extension": ".py",
   "mimetype": "text/x-python",
   "name": "python",
   "nbconvert_exporter": "python",
   "pygments_lexer": "ipython3",
   "version": "3.11.8"
  }
 },
 "nbformat": 4,
 "nbformat_minor": 5
}
