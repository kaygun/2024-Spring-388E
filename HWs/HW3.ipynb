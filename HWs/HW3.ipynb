{
 "cells": [
  {
   "cell_type": "markdown",
   "id": "aeb87bd5-43b4-4c84-801d-0c904574024f",
   "metadata": {},
   "source": [
    "# HW3\n",
    "\n",
    "## Overall Rules\n",
    "\n",
    "- Refrain from saving datasets locally. You may experiment with your answers on a locally saved version of the datasets, but do not upload your local files with your homework as the datasets are very large. In your submitted answers datasets should be read from the original source URL.\n",
    "- Document all of your steps by writing appropriate markdown cells in your notebook. Refrain from using code comments to explain what has been done.\n",
    "- Avoid duplicating code. Do not copy and paste code from one cell to another. If copying and pasting is necessary, write a suitable function for the task at hand and call that function.\n",
    "- Document your use of LLMs (ChatGPT, Claude, Code Pilot etc). Either take screenshots of your steps and include them with this notebook, or give me a full log (both questions and answers) in a markdown file named HW3-LLM-LOG.md.\n",
    "\n",
    "Failure to adhere to these guidelines will result in a 25-point deduction for each infraction."
   ]
  },
  {
   "cell_type": "markdown",
   "id": "4c72e278-5e81-4e54-8a3a-ff7fde61e723",
   "metadata": {},
   "source": [
    "## Q1\n",
    "\n",
    "For this question use the MNIST dataset (from tensorflow).\n",
    "\n",
    "1. Write multi-class classification models using the following regular classification algorithms\n",
    "   - Logistic regression\n",
    "   - SVM\n",
    "   - Decision Tree\n",
    "   \n",
    "   Employ one-vs-rest (OvR) and one-vs-one (OvO) in combining different classifiers.\n",
    "\n",
    "2. Statistically analyze accuracy, precision, and recall for all of the models above in a table.\n",
    "\n",
    "3. Write multi-class classification models using the following ensemble classification algorithms\n",
    "   - Random forest\n",
    "   - AdaBoost\n",
    "   - XGBoost\n",
    "   - LightGBM\n",
    "   \n",
    "   Employ one-vs-rest (OvR) and one-vs-one (OvO) in combining different classifiers.\n",
    "\n",
    "4. Statistically analyze accuracy, precision, and recall for all of the models above in a table.\n",
    "\n",
    "5. Compare your results from Parts 2 and 4."
   ]
  },
  {
   "cell_type": "code",
   "execution_count": null,
   "id": "a81e2c16-574e-4cfb-be7e-206c9eef6e33",
   "metadata": {},
   "outputs": [],
   "source": []
  },
  {
   "cell_type": "markdown",
   "id": "b1110863-e3be-4bf0-82ee-6f3d66818b27",
   "metadata": {},
   "source": [
    "## Q2\n",
    "\n",
    "Repeat what you did in Q1 for Olivetti Faces dataset (from tensorflow)."
   ]
  },
  {
   "cell_type": "code",
   "execution_count": null,
   "id": "23312ff1-46ab-4a3d-91ac-970998868703",
   "metadata": {},
   "outputs": [],
   "source": []
  },
  {
   "cell_type": "markdown",
   "id": "41ff9e98-c4e2-44ed-b1b2-aacb7001a5ab",
   "metadata": {},
   "source": [
    "## Q3\n",
    "\n",
    "For this question use the World Bank's [Climate Change Knowledge Portal](https://climateknowledgeportal.worldbank.org/).\n",
    "\n",
    "The Mediterranean Sea is bordered by the following 22 countries: Spain, France, Monaco, Italy, Slovenia, Croatia, Bosnia and Herzegovina, Montenegro, Albania, Greece, Turkey, Syria, Lebanon, Israel, Palestine, Egypt, Libya, Tunisia, Algeria, Morocco, Malta, and Cyprus. \n",
    "\n",
    "Using the World Bank's Climate Change Knowledge Portal, obtain the following data through their API:\n",
    "\n",
    "- Monthly average surface temperatures\n",
    "- Monthly average precipitation\n",
    "\n",
    "Gather this time series from 1950 for all countries surrounding the Mediterranean Sea. \n",
    "\n",
    "1. Write a function that takes 3 parameters:\n",
    "\n",
    "   - 'surface' vs 'precipitation'\n",
    "   - a model type, and\n",
    "   - a country name\n",
    "   \n",
    "   that returns a\n",
    "\n",
    "   - regular OLS regression\n",
    "   - decision tree regression\n",
    "   - support vector regression\n",
    "   - AdaBoost regression\n",
    "   - LightGBM regression\n",
    "   - XGBoost regression\n",
    "   \n",
    "   model against time for the given country.\n",
    "\n",
    "3. Calculate every possible model combination for every country and evaluate each model.\n",
    "4. Report the best model for surface temperatures and precipitation for each country in a table. "
   ]
  },
  {
   "cell_type": "code",
   "execution_count": null,
   "id": "4fb5efd2-c85e-49f2-9cd2-c36a8a4b9fe4",
   "metadata": {},
   "outputs": [],
   "source": []
  },
  {
   "cell_type": "markdown",
   "id": "9fa24646-e44d-46af-8569-d83f2baa2aca",
   "metadata": {},
   "source": [
    "## Q4\n",
    "\n",
    "Repeat the same for the precious metals data we used in HW2. Use the adjusted close column."
   ]
  },
  {
   "cell_type": "code",
   "execution_count": null,
   "id": "824f4884-4133-4faa-9707-5bea0eb4b68c",
   "metadata": {},
   "outputs": [],
   "source": []
  }
 ],
 "metadata": {
  "kernelspec": {
   "display_name": "Python 3 (ipykernel)",
   "language": "python",
   "name": "python3"
  },
  "language_info": {
   "codemirror_mode": {
    "name": "ipython",
    "version": 3
   },
   "file_extension": ".py",
   "mimetype": "text/x-python",
   "name": "python",
   "nbconvert_exporter": "python",
   "pygments_lexer": "ipython3",
   "version": "3.11.8"
  }
 },
 "nbformat": 4,
 "nbformat_minor": 5
}
