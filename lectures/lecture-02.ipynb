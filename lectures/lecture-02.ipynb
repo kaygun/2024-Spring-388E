{
 "cells": [
  {
   "cell_type": "markdown",
   "id": "6b008fee-7dd1-4520-9b8e-afef642db23e",
   "metadata": {},
   "source": [
    "# Lecture 2\n",
    "\n",
    "## Python and Its Library Ecosystem\n",
    "\n",
    "### What is python?\n",
    "\n",
    "Python is a programming language. According to [TIOBE index](https://www.tiobe.com/tiobe-index/) it is the most popular programming language among developers. If you are used to languages like [java](https://www.java.com/en/download/help/whatis_java.html), [C](https://en.wikipedia.org/wiki/C_(programming_language)) or [C++](https://en.wikipedia.org/wiki/C%2B%2B), the language has a totally different feel to it.\n",
    "\n",
    "Python is a dynamically typed object-oriented interpreted language, as opposed to java which is a statically typed object-oriented compiled language. "
   ]
  },
  {
   "cell_type": "code",
   "execution_count": 1,
   "id": "61109d5a-56b3-4a02-8fe5-989ba22ed393",
   "metadata": {},
   "outputs": [
    {
     "data": {
      "text/plain": [
       "[1, 2, 3, 4, 5, 6]"
      ]
     },
     "execution_count": 1,
     "metadata": {},
     "output_type": "execute_result"
    }
   ],
   "source": [
    "xs = [2,1,4,3,6,5]\n",
    "xs.sort()\n",
    "xs"
   ]
  },
  {
   "cell_type": "code",
   "execution_count": 2,
   "id": "5a4eda22-ee9b-4e92-9d88-a5e2dcdfb193",
   "metadata": {},
   "outputs": [
    {
     "data": {
      "text/plain": [
       "[1, 4, 9, 16, 25, 36]"
      ]
     },
     "execution_count": 2,
     "metadata": {},
     "output_type": "execute_result"
    }
   ],
   "source": [
    "ys = [ i*i for i in xs ]\n",
    "ys"
   ]
  },
  {
   "cell_type": "markdown",
   "id": "9ace24c8-4b60-4b86-8e15-fa0f663dd2a4",
   "metadata": {},
   "source": [
    "The piece of code above would look like as follows in java\n",
    "\n",
    "    import java.util.ArrayList;\n",
    "    import java.util.Collections;\n",
    "    import java.util.List;\n",
    "\n",
    "    public class SquareNumbers {\n",
    "        public static void main(String[] args) {\n",
    "            int[] myArray = {1, 2, 3, 4, 5};\n",
    "\n",
    "            Collections.sort(xs);\n",
    "\n",
    "            List<Integer> ys = new ArrayList<>();\n",
    "            for (int i : xs) {\n",
    "                ys.add(i * i);\n",
    "            }\n",
    "\n",
    "            System.out.println(ys);\n",
    "        }\n",
    "    }\n",
    "\n",
    "Python relies on a [Read/Evaluate/Print-Loop (REPL)](https://en.wikipedia.org/wiki/Read%E2%80%93eval%E2%80%93print_loop)."
   ]
  },
  {
   "cell_type": "code",
   "execution_count": 2,
   "id": "7a637ac8-9236-4fb3-9d1f-a7e3aedf2515",
   "metadata": {},
   "outputs": [
    {
     "data": {
      "text/plain": [
       "11"
      ]
     },
     "execution_count": 2,
     "metadata": {},
     "output_type": "execute_result"
    }
   ],
   "source": [
    "11"
   ]
  },
  {
   "cell_type": "markdown",
   "id": "3930e7ca-41c6-499d-b683-5d417c43cad8",
   "metadata": {},
   "source": [
    "### Basic Data Types\n",
    "\n",
    "Python has the basic data types that every language has like integers, floating points numbers, characters, and strings."
   ]
  },
  {
   "cell_type": "code",
   "execution_count": 9,
   "id": "6226fef1-862c-4002-b79a-0329e9ffcd43",
   "metadata": {},
   "outputs": [
    {
     "data": {
      "text/plain": [
       "'this is a string'"
      ]
     },
     "execution_count": 9,
     "metadata": {},
     "output_type": "execute_result"
    }
   ],
   "source": [
    "'this is a string'"
   ]
  },
  {
   "cell_type": "markdown",
   "id": "1d1b1c3a-60ee-4792-8760-cf48e16977c0",
   "metadata": {},
   "source": [
    "### Basic Data Structures\n",
    "\n",
    "Python also has what I call *container* data structures that contain multitudes of simple data types like arrays, lists, sets, and maps."
   ]
  },
  {
   "cell_type": "code",
   "execution_count": 16,
   "id": "4decee01-58f2-44be-96e1-f4461113dd91",
   "metadata": {},
   "outputs": [
    {
     "data": {
      "text/plain": [
       "30"
      ]
     },
     "execution_count": 16,
     "metadata": {},
     "output_type": "execute_result"
    }
   ],
   "source": [
    "ys = [10,20,30,40]\n",
    "ys[2]"
   ]
  },
  {
   "cell_type": "code",
   "execution_count": 19,
   "id": "c76aaeb9-c4e1-4ee0-8678-0c0184001b58",
   "metadata": {},
   "outputs": [
    {
     "data": {
      "text/plain": [
       "'one two'"
      ]
     },
     "execution_count": 19,
     "metadata": {},
     "output_type": "execute_result"
    }
   ],
   "source": [
    "xs = {'a': 1, -1: 10, (1,2): \"one two\"}\n",
    "xs[(1,2)]"
   ]
  },
  {
   "cell_type": "code",
   "execution_count": 21,
   "id": "7c7b33b7-7fae-4b5c-9a8b-17dd07999aaf",
   "metadata": {},
   "outputs": [
    {
     "data": {
      "text/plain": [
       "dict_values([1, 10, 'one two'])"
      ]
     },
     "execution_count": 21,
     "metadata": {},
     "output_type": "execute_result"
    }
   ],
   "source": [
    "xs.values()"
   ]
  },
  {
   "cell_type": "code",
   "execution_count": 24,
   "id": "79429d6d-f1ea-4d77-a4e6-27b23ef199cf",
   "metadata": {},
   "outputs": [
    {
     "data": {
      "text/plain": [
       "{1, 2, 3, 4}"
      ]
     },
     "execution_count": 24,
     "metadata": {},
     "output_type": "execute_result"
    }
   ],
   "source": [
    "zs = {1,2,1,2,3,4}\n",
    "zs"
   ]
  },
  {
   "cell_type": "markdown",
   "id": "f54495af-c458-4393-a07e-4bf7d62efda9",
   "metadata": {},
   "source": [
    "### Variables, Values, and Pointers\n",
    "\n",
    "You have to be careful with variables in python in combination with assignments:"
   ]
  },
  {
   "cell_type": "code",
   "execution_count": 26,
   "id": "859eb28a-43c9-4345-b5b1-133f865c2c89",
   "metadata": {},
   "outputs": [
    {
     "data": {
      "text/plain": [
       "[1, 2, 3, 4, 5]"
      ]
     },
     "execution_count": 26,
     "metadata": {},
     "output_type": "execute_result"
    }
   ],
   "source": [
    "a = [1,2,3,4]\n",
    "b = a\n",
    "b.append(5)\n",
    "b"
   ]
  },
  {
   "cell_type": "code",
   "execution_count": 27,
   "id": "f3a97a76-deff-44a1-9e7f-8b66e5b3bc56",
   "metadata": {},
   "outputs": [
    {
     "data": {
      "text/plain": [
       "[1, 2, 3, 4, 5]"
      ]
     },
     "execution_count": 27,
     "metadata": {},
     "output_type": "execute_result"
    }
   ],
   "source": [
    "a"
   ]
  },
  {
   "cell_type": "markdown",
   "id": "38c158bf-4827-49f1-a4ce-b68c43eba824",
   "metadata": {},
   "source": [
    "### Conditionals and Loops\n",
    "\n",
    "Python, like every other language, has conditionals and loops"
   ]
  },
  {
   "cell_type": "code",
   "execution_count": 8,
   "id": "716464c3-c6e0-4cef-9eb7-4b11518f37dd",
   "metadata": {},
   "outputs": [
    {
     "name": "stdout",
     "output_type": "stream",
     "text": [
      "positive\n"
     ]
    },
    {
     "data": {
      "text/plain": [
       "2"
      ]
     },
     "execution_count": 8,
     "metadata": {},
     "output_type": "execute_result"
    }
   ],
   "source": [
    "a = 1\n",
    "if a>0:\n",
    "    # In Python blocks are designated using whitespace\n",
    "    a += 1\n",
    "    print('positive')\n",
    "elif a<0:\n",
    "    a -= 1\n",
    "    print('negative')\n",
    "else:\n",
    "    print('zero')\n",
    "a"
   ]
  },
  {
   "cell_type": "markdown",
   "id": "168e4fe7-5d88-4c8c-84db-884522f8fc23",
   "metadata": {},
   "source": [
    "Loops are for traversing over collections such as lists, arrays, and sets. A very efficient way of using loops is called *comprehensions*:"
   ]
  },
  {
   "cell_type": "code",
   "execution_count": 28,
   "id": "3d25b076-1b2c-4dbe-be55-5a20eef33605",
   "metadata": {},
   "outputs": [
    {
     "data": {
      "text/plain": [
       "{'a': 1, 'b': 2, 'c': 3, 'd': 4}"
      ]
     },
     "execution_count": 28,
     "metadata": {},
     "output_type": "execute_result"
    }
   ],
   "source": [
    "xs = ['a','b','c','d']\n",
    "ys = [1,2,3,4,5]\n",
    "zs = {x: y for x,y in zip(xs,ys) }\n",
    "zs"
   ]
  },
  {
   "cell_type": "code",
   "execution_count": 10,
   "id": "f42c3990-9b7a-4f9b-a8f6-51612edbc092",
   "metadata": {},
   "outputs": [
    {
     "name": "stdout",
     "output_type": "stream",
     "text": [
      "a is in position 0\n",
      "b is in position 1\n",
      "c is in position 2\n",
      "d is in position 3\n"
     ]
    }
   ],
   "source": [
    "for i,x in enumerate(xs):\n",
    "    print(f'{x} is in position {i}')"
   ]
  },
  {
   "cell_type": "code",
   "execution_count": 31,
   "id": "5eef157a-e337-4b39-8180-18faae2d1ec7",
   "metadata": {},
   "outputs": [
    {
     "name": "stdout",
     "output_type": "stream",
     "text": [
      "a is in position 0\n",
      "b is in position 1\n",
      "c is in position 2\n",
      "d is in position 3\n"
     ]
    }
   ],
   "source": [
    "for i in range(len(xs)):\n",
    "    print(xs[i] + ' is in position ' + str(i))"
   ]
  },
  {
   "cell_type": "markdown",
   "id": "921ddd1c-535a-4a88-ab15-8bed320a1f67",
   "metadata": {},
   "source": [
    "### Functions\n",
    "\n",
    "Python has functions too"
   ]
  },
  {
   "cell_type": "code",
   "execution_count": 34,
   "id": "040efc73-c843-46bd-a728-29b712b8c17a",
   "metadata": {},
   "outputs": [],
   "source": [
    "def fn(x,y, z=0, t=-1):\n",
    "    if x > 0:\n",
    "        return (-t)*x + z*y\n",
    "    else:\n",
    "        return (-t)*x + z*y"
   ]
  },
  {
   "cell_type": "code",
   "execution_count": 35,
   "id": "ff3dd862-7aec-4781-9645-5c92a2ebe784",
   "metadata": {},
   "outputs": [
    {
     "data": {
      "text/plain": [
       "-110"
      ]
     },
     "execution_count": 35,
     "metadata": {},
     "output_type": "execute_result"
    }
   ],
   "source": [
    "fn(1,10,t=100,z=-1)"
   ]
  },
  {
   "cell_type": "code",
   "execution_count": 36,
   "id": "037a2297-9e5f-4f77-aaca-673cc3b89461",
   "metadata": {},
   "outputs": [],
   "source": [
    "def mine(f,x):\n",
    "    \"\"\"Takes a function f and applies to a value x\"\"\"\n",
    "    return f(x)"
   ]
  },
  {
   "cell_type": "code",
   "execution_count": 37,
   "id": "6f13fa88-43da-4f71-996d-980a6837d57e",
   "metadata": {},
   "outputs": [
    {
     "data": {
      "text/plain": [
       "\u001b[0;31mSignature:\u001b[0m \u001b[0mmine\u001b[0m\u001b[0;34m(\u001b[0m\u001b[0mf\u001b[0m\u001b[0;34m,\u001b[0m \u001b[0mx\u001b[0m\u001b[0;34m)\u001b[0m\u001b[0;34m\u001b[0m\u001b[0;34m\u001b[0m\u001b[0m\n",
       "\u001b[0;31mDocstring:\u001b[0m Takes a function f and applies to a value x\n",
       "\u001b[0;31mFile:\u001b[0m      /tmp/ipykernel_10463/2523046290.py\n",
       "\u001b[0;31mType:\u001b[0m      function"
      ]
     },
     "metadata": {},
     "output_type": "display_data"
    }
   ],
   "source": [
    "?mine"
   ]
  },
  {
   "cell_type": "code",
   "execution_count": 38,
   "id": "f0f43a68-3661-4f32-b3ef-f55ff7bdf676",
   "metadata": {},
   "outputs": [
    {
     "data": {
      "text/plain": [
       "11"
      ]
     },
     "execution_count": 38,
     "metadata": {},
     "output_type": "execute_result"
    }
   ],
   "source": [
    "mine(lambda x: x+1, 10)"
   ]
  },
  {
   "cell_type": "markdown",
   "id": "c782cb56-00db-48f6-9de7-b6bca5fc4ac5",
   "metadata": {},
   "source": [
    "# Python Library Ecosystem\n",
    "\n",
    "## Numpy\n",
    "\n",
    "[Numpy](https://numpy.org/) is the main python library for matrix calculation and basic mathematical functions operating on matrices."
   ]
  },
  {
   "cell_type": "code",
   "execution_count": 39,
   "id": "25bbc01f-7d39-4f25-8f50-a0552ed4b770",
   "metadata": {},
   "outputs": [],
   "source": [
    "# This is how you import a whole library\n",
    "import numpy as np"
   ]
  },
  {
   "cell_type": "markdown",
   "id": "06fe1ebd-c0a4-49ee-a5d0-60b9be2f17d6",
   "metadata": {},
   "source": [
    "Here is an example usage:"
   ]
  },
  {
   "cell_type": "code",
   "execution_count": 40,
   "id": "26a7ca82-4274-4924-b2a8-98734e49dbac",
   "metadata": {},
   "outputs": [
    {
     "data": {
      "text/plain": [
       "array([[0.15764158],\n",
       "       [0.86649519],\n",
       "       [0.59115785]])"
      ]
     },
     "execution_count": 40,
     "metadata": {},
     "output_type": "execute_result"
    }
   ],
   "source": [
    "xs = np.random.random((3,1))\n",
    "M = np.random.random((3,3))\n",
    "np.matmul(M,xs)"
   ]
  },
  {
   "cell_type": "code",
   "execution_count": 41,
   "id": "6ac88375-8f0a-4982-864c-19b79cc29b30",
   "metadata": {},
   "outputs": [
    {
     "data": {
      "text/plain": [
       "\u001b[0;31mCall signature:\u001b[0m  \u001b[0mnp\u001b[0m\u001b[0;34m.\u001b[0m\u001b[0mmatmul\u001b[0m\u001b[0;34m(\u001b[0m\u001b[0;34m*\u001b[0m\u001b[0margs\u001b[0m\u001b[0;34m,\u001b[0m \u001b[0;34m**\u001b[0m\u001b[0mkwargs\u001b[0m\u001b[0;34m)\u001b[0m\u001b[0;34m\u001b[0m\u001b[0;34m\u001b[0m\u001b[0m\n",
       "\u001b[0;31mType:\u001b[0m            ufunc\n",
       "\u001b[0;31mString form:\u001b[0m     <ufunc 'matmul'>\n",
       "\u001b[0;31mFile:\u001b[0m            ~/.local/lib/python3.11/site-packages/numpy/__init__.py\n",
       "\u001b[0;31mDocstring:\u001b[0m      \n",
       "matmul(x1, x2, /, out=None, *, casting='same_kind', order='K', dtype=None, subok=True[, signature, extobj, axes, axis])\n",
       "\n",
       "Matrix product of two arrays.\n",
       "\n",
       "Parameters\n",
       "----------\n",
       "x1, x2 : array_like\n",
       "    Input arrays, scalars not allowed.\n",
       "out : ndarray, optional\n",
       "    A location into which the result is stored. If provided, it must have\n",
       "    a shape that matches the signature `(n,k),(k,m)->(n,m)`. If not\n",
       "    provided or None, a freshly-allocated array is returned.\n",
       "**kwargs\n",
       "    For other keyword-only arguments, see the\n",
       "    :ref:`ufunc docs <ufuncs.kwargs>`.\n",
       "\n",
       "    .. versionadded:: 1.16\n",
       "       Now handles ufunc kwargs\n",
       "\n",
       "Returns\n",
       "-------\n",
       "y : ndarray\n",
       "    The matrix product of the inputs.\n",
       "    This is a scalar only when both x1, x2 are 1-d vectors.\n",
       "\n",
       "Raises\n",
       "------\n",
       "ValueError\n",
       "    If the last dimension of `x1` is not the same size as\n",
       "    the second-to-last dimension of `x2`.\n",
       "\n",
       "    If a scalar value is passed in.\n",
       "\n",
       "See Also\n",
       "--------\n",
       "vdot : Complex-conjugating dot product.\n",
       "tensordot : Sum products over arbitrary axes.\n",
       "einsum : Einstein summation convention.\n",
       "dot : alternative matrix product with different broadcasting rules.\n",
       "\n",
       "Notes\n",
       "-----\n",
       "\n",
       "The behavior depends on the arguments in the following way.\n",
       "\n",
       "- If both arguments are 2-D they are multiplied like conventional\n",
       "  matrices.\n",
       "- If either argument is N-D, N > 2, it is treated as a stack of\n",
       "  matrices residing in the last two indexes and broadcast accordingly.\n",
       "- If the first argument is 1-D, it is promoted to a matrix by\n",
       "  prepending a 1 to its dimensions. After matrix multiplication\n",
       "  the prepended 1 is removed.\n",
       "- If the second argument is 1-D, it is promoted to a matrix by\n",
       "  appending a 1 to its dimensions. After matrix multiplication\n",
       "  the appended 1 is removed.\n",
       "\n",
       "``matmul`` differs from ``dot`` in two important ways:\n",
       "\n",
       "- Multiplication by scalars is not allowed, use ``*`` instead.\n",
       "- Stacks of matrices are broadcast together as if the matrices\n",
       "  were elements, respecting the signature ``(n,k),(k,m)->(n,m)``:\n",
       "\n",
       "  >>> a = np.ones([9, 5, 7, 4])\n",
       "  >>> c = np.ones([9, 5, 4, 3])\n",
       "  >>> np.dot(a, c).shape\n",
       "  (9, 5, 7, 9, 5, 3)\n",
       "  >>> np.matmul(a, c).shape\n",
       "  (9, 5, 7, 3)\n",
       "  >>> # n is 7, k is 4, m is 3\n",
       "\n",
       "The matmul function implements the semantics of the ``@`` operator\n",
       "introduced in Python 3.5 following :pep:`465`.\n",
       "\n",
       "It uses an optimized BLAS library when possible (see `numpy.linalg`).\n",
       "\n",
       "Examples\n",
       "--------\n",
       "For 2-D arrays it is the matrix product:\n",
       "\n",
       ">>> a = np.array([[1, 0],\n",
       "...               [0, 1]])\n",
       ">>> b = np.array([[4, 1],\n",
       "...               [2, 2]])\n",
       ">>> np.matmul(a, b)\n",
       "array([[4, 1],\n",
       "       [2, 2]])\n",
       "\n",
       "For 2-D mixed with 1-D, the result is the usual.\n",
       "\n",
       ">>> a = np.array([[1, 0],\n",
       "...               [0, 1]])\n",
       ">>> b = np.array([1, 2])\n",
       ">>> np.matmul(a, b)\n",
       "array([1, 2])\n",
       ">>> np.matmul(b, a)\n",
       "array([1, 2])\n",
       "\n",
       "\n",
       "Broadcasting is conventional for stacks of arrays\n",
       "\n",
       ">>> a = np.arange(2 * 2 * 4).reshape((2, 2, 4))\n",
       ">>> b = np.arange(2 * 2 * 4).reshape((2, 4, 2))\n",
       ">>> np.matmul(a,b).shape\n",
       "(2, 2, 2)\n",
       ">>> np.matmul(a, b)[0, 1, 1]\n",
       "98\n",
       ">>> sum(a[0, 1, :] * b[0 , :, 1])\n",
       "98\n",
       "\n",
       "Vector, vector returns the scalar inner product, but neither argument\n",
       "is complex-conjugated:\n",
       "\n",
       ">>> np.matmul([2j, 3j], [2j, 3j])\n",
       "(-13+0j)\n",
       "\n",
       "Scalar multiplication raises an error.\n",
       "\n",
       ">>> np.matmul([1,2], 3)\n",
       "Traceback (most recent call last):\n",
       "...\n",
       "ValueError: matmul: Input operand 1 does not have enough dimensions ...\n",
       "\n",
       "The ``@`` operator can be used as a shorthand for ``np.matmul`` on\n",
       "ndarrays.\n",
       "\n",
       ">>> x1 = np.array([2j, 3j])\n",
       ">>> x2 = np.array([2j, 3j])\n",
       ">>> x1 @ x2\n",
       "(-13+0j)\n",
       "\n",
       ".. versionadded:: 1.10.0\n",
       "\u001b[0;31mClass docstring:\u001b[0m\n",
       "Functions that operate element by element on whole arrays.\n",
       "\n",
       "To see the documentation for a specific ufunc, use `info`.  For\n",
       "example, ``np.info(np.sin)``.  Because ufuncs are written in C\n",
       "(for speed) and linked into Python with NumPy's ufunc facility,\n",
       "Python's help() function finds this page whenever help() is called\n",
       "on a ufunc.\n",
       "\n",
       "A detailed explanation of ufuncs can be found in the docs for :ref:`ufuncs`.\n",
       "\n",
       "**Calling ufuncs:** ``op(*x[, out], where=True, **kwargs)``\n",
       "\n",
       "Apply `op` to the arguments `*x` elementwise, broadcasting the arguments.\n",
       "\n",
       "The broadcasting rules are:\n",
       "\n",
       "* Dimensions of length 1 may be prepended to either array.\n",
       "* Arrays may be repeated along dimensions of length 1.\n",
       "\n",
       "Parameters\n",
       "----------\n",
       "*x : array_like\n",
       "    Input arrays.\n",
       "out : ndarray, None, or tuple of ndarray and None, optional\n",
       "    Alternate array object(s) in which to put the result; if provided, it\n",
       "    must have a shape that the inputs broadcast to. A tuple of arrays\n",
       "    (possible only as a keyword argument) must have length equal to the\n",
       "    number of outputs; use None for uninitialized outputs to be\n",
       "    allocated by the ufunc.\n",
       "where : array_like, optional\n",
       "    This condition is broadcast over the input. At locations where the\n",
       "    condition is True, the `out` array will be set to the ufunc result.\n",
       "    Elsewhere, the `out` array will retain its original value.\n",
       "    Note that if an uninitialized `out` array is created via the default\n",
       "    ``out=None``, locations within it where the condition is False will\n",
       "    remain uninitialized.\n",
       "**kwargs\n",
       "    For other keyword-only arguments, see the :ref:`ufunc docs <ufuncs.kwargs>`.\n",
       "\n",
       "Returns\n",
       "-------\n",
       "r : ndarray or tuple of ndarray\n",
       "    `r` will have the shape that the arrays in `x` broadcast to; if `out` is\n",
       "    provided, it will be returned. If not, `r` will be allocated and\n",
       "    may contain uninitialized values. If the function has more than one\n",
       "    output, then the result will be a tuple of arrays."
      ]
     },
     "metadata": {},
     "output_type": "display_data"
    }
   ],
   "source": [
    "np.matmul?"
   ]
  },
  {
   "cell_type": "code",
   "execution_count": 42,
   "id": "5817547c-6891-4002-870b-bfed216fd047",
   "metadata": {},
   "outputs": [
    {
     "data": {
      "text/plain": [
       "array([[-0.16144339],\n",
       "       [-2.01727927],\n",
       "       [-2.28338777]])"
      ]
     },
     "execution_count": 42,
     "metadata": {},
     "output_type": "execute_result"
    }
   ],
   "source": [
    "np.log(xs)"
   ]
  },
  {
   "cell_type": "code",
   "execution_count": 46,
   "id": "8d8fbe56-aa98-49ea-bb4d-a9eae83e7a16",
   "metadata": {},
   "outputs": [
    {
     "data": {
      "text/plain": [
       "array([0.99925146, 0.13255761, 0.25391862, 0.34100897, 0.88753751])"
      ]
     },
     "execution_count": 46,
     "metadata": {},
     "output_type": "execute_result"
    }
   ],
   "source": [
    "zs = np.random.random((10,3))\n",
    "zs[5:,2]"
   ]
  },
  {
   "cell_type": "code",
   "execution_count": 48,
   "id": "b6bc5716-ac78-47f2-be7f-d83567d5ae34",
   "metadata": {},
   "outputs": [
    {
     "data": {
      "text/plain": [
       "array([ 1.,  2.,  4.,  6.,  8., 10.])"
      ]
     },
     "execution_count": 48,
     "metadata": {},
     "output_type": "execute_result"
    }
   ],
   "source": [
    "# Sample data points\n",
    "X = np.array([1, 2, 4, 6, 8, 10], dtype=float)\n",
    "Y = np.array([3, 5, 7, 10, 11, 14], dtype=float)\n",
    "X"
   ]
  },
  {
   "cell_type": "code",
   "execution_count": 50,
   "id": "570f7386-dfbd-44f8-b1b6-a748c7a2da6d",
   "metadata": {},
   "outputs": [
    {
     "data": {
      "text/plain": [
       "60.83333333333333"
      ]
     },
     "execution_count": 50,
     "metadata": {},
     "output_type": "execute_result"
    }
   ],
   "source": [
    "# Calculate average of X and Y\n",
    "mean_x = X.mean()\n",
    "mean_y = Y.mean()\n",
    "np.power(X - mean_x, 2).sum()"
   ]
  },
  {
   "cell_type": "code",
   "execution_count": 51,
   "id": "603c909e-6856-4788-b67e-f2c25e31a24f",
   "metadata": {},
   "outputs": [
    {
     "data": {
      "text/plain": [
       "{'slope': 1.1616438356164382, 'intercept': 2.331506849315069}"
      ]
     },
     "execution_count": 51,
     "metadata": {},
     "output_type": "execute_result"
    }
   ],
   "source": [
    "# Calculate the regression coefficients\n",
    "m = ((X - mean_x) * (Y - mean_y)).sum() / np.power(X - mean_x, 2).sum()\n",
    "b = mean_y - m * mean_x\n",
    "\n",
    "{'slope': m, 'intercept': b}"
   ]
  },
  {
   "cell_type": "code",
   "execution_count": 25,
   "id": "d98529ca-d199-4a09-b8cc-0b1226cffe1a",
   "metadata": {},
   "outputs": [
    {
     "data": {
      "text/plain": [
       "{'mean': 0.49935989529272257,\n",
       " 'std': 0.20726040569113566,\n",
       " 'var': 0.04295687576725414}"
      ]
     },
     "execution_count": 25,
     "metadata": {},
     "output_type": "execute_result"
    }
   ],
   "source": [
    "xs = np.random.random(10)\n",
    "{'mean': xs.mean(),\n",
    " 'std': xs.std(),\n",
    " 'var': xs.var()\n",
    "}"
   ]
  },
  {
   "cell_type": "markdown",
   "id": "7767469d-8255-4e5a-bde0-27984330311c",
   "metadata": {},
   "source": [
    "### Pandas\n",
    "\n",
    "[Pandas](https://pandas.pydata.org/docs/user_guide/index.html) is main python library for ingesting, splitting, filtering, and grouping data. It can work with many different types and sources of data both locally, or over the net."
   ]
  },
  {
   "cell_type": "code",
   "execution_count": 52,
   "id": "e9844e67-943f-4ede-bf87-9bfae7be2047",
   "metadata": {},
   "outputs": [],
   "source": [
    "import pandas as pd"
   ]
  },
  {
   "cell_type": "code",
   "execution_count": 53,
   "id": "0e6383d0-8f92-4790-b613-ed82133b1ef3",
   "metadata": {},
   "outputs": [
    {
     "data": {
      "text/html": [
       "<div>\n",
       "<style scoped>\n",
       "    .dataframe tbody tr th:only-of-type {\n",
       "        vertical-align: middle;\n",
       "    }\n",
       "\n",
       "    .dataframe tbody tr th {\n",
       "        vertical-align: top;\n",
       "    }\n",
       "\n",
       "    .dataframe thead th {\n",
       "        text-align: right;\n",
       "    }\n",
       "</style>\n",
       "<table border=\"1\" class=\"dataframe\">\n",
       "  <thead>\n",
       "    <tr style=\"text-align: right;\">\n",
       "      <th></th>\n",
       "      <th>transition_date</th>\n",
       "      <th>transition_hour</th>\n",
       "      <th>transport_type_id</th>\n",
       "      <th>road_type</th>\n",
       "      <th>line</th>\n",
       "      <th>transfer_type</th>\n",
       "      <th>number_of_passage</th>\n",
       "      <th>number_of_passenger</th>\n",
       "    </tr>\n",
       "  </thead>\n",
       "  <tbody>\n",
       "    <tr>\n",
       "      <th>0</th>\n",
       "      <td>2023-09-25</td>\n",
       "      <td>9</td>\n",
       "      <td>1</td>\n",
       "      <td>OTOYOL</td>\n",
       "      <td>ZEYTINBURNU-KAZLICESME</td>\n",
       "      <td>Aktarma</td>\n",
       "      <td>9</td>\n",
       "      <td>9</td>\n",
       "    </tr>\n",
       "    <tr>\n",
       "      <th>1</th>\n",
       "      <td>2023-09-26</td>\n",
       "      <td>14</td>\n",
       "      <td>1</td>\n",
       "      <td>OTOYOL</td>\n",
       "      <td>TARABYAUSTU-FREAHEVLER-ISTINYE ISKELE</td>\n",
       "      <td>Normal</td>\n",
       "      <td>1</td>\n",
       "      <td>1</td>\n",
       "    </tr>\n",
       "    <tr>\n",
       "      <th>2</th>\n",
       "      <td>2023-09-07</td>\n",
       "      <td>22</td>\n",
       "      <td>1</td>\n",
       "      <td>OTOYOL</td>\n",
       "      <td>ISTINYEDEREICI-RESITPASA-SISLI</td>\n",
       "      <td>Aktarma</td>\n",
       "      <td>5</td>\n",
       "      <td>5</td>\n",
       "    </tr>\n",
       "    <tr>\n",
       "      <th>3</th>\n",
       "      <td>2023-09-28</td>\n",
       "      <td>11</td>\n",
       "      <td>1</td>\n",
       "      <td>OTOYOL</td>\n",
       "      <td>KADIKOY-RASATHANE-ANADOLU HISARI</td>\n",
       "      <td>Normal</td>\n",
       "      <td>3</td>\n",
       "      <td>3</td>\n",
       "    </tr>\n",
       "    <tr>\n",
       "      <th>4</th>\n",
       "      <td>2023-09-08</td>\n",
       "      <td>22</td>\n",
       "      <td>1</td>\n",
       "      <td>OTOYOL</td>\n",
       "      <td>GUNESLI - BEYAZIT</td>\n",
       "      <td>Normal</td>\n",
       "      <td>357</td>\n",
       "      <td>351</td>\n",
       "    </tr>\n",
       "    <tr>\n",
       "      <th>...</th>\n",
       "      <td>...</td>\n",
       "      <td>...</td>\n",
       "      <td>...</td>\n",
       "      <td>...</td>\n",
       "      <td>...</td>\n",
       "      <td>...</td>\n",
       "      <td>...</td>\n",
       "      <td>...</td>\n",
       "    </tr>\n",
       "    <tr>\n",
       "      <th>4200607</th>\n",
       "      <td>2023-09-07</td>\n",
       "      <td>19</td>\n",
       "      <td>1</td>\n",
       "      <td>OTOYOL</td>\n",
       "      <td>I.U AVCILAR KAMPUSU - SEHIR HASTANESI</td>\n",
       "      <td>Normal</td>\n",
       "      <td>1</td>\n",
       "      <td>1</td>\n",
       "    </tr>\n",
       "    <tr>\n",
       "      <th>4200608</th>\n",
       "      <td>2023-09-04</td>\n",
       "      <td>18</td>\n",
       "      <td>1</td>\n",
       "      <td>OTOYOL</td>\n",
       "      <td>YENI MAHALLE-KADIKOY</td>\n",
       "      <td>Aktarma</td>\n",
       "      <td>7</td>\n",
       "      <td>7</td>\n",
       "    </tr>\n",
       "    <tr>\n",
       "      <th>4200609</th>\n",
       "      <td>2023-09-30</td>\n",
       "      <td>10</td>\n",
       "      <td>1</td>\n",
       "      <td>OTOYOL</td>\n",
       "      <td>CAMLICA CAMII - BULGURLU METRO - GOZTEPE KOPRUSU</td>\n",
       "      <td>Normal</td>\n",
       "      <td>7</td>\n",
       "      <td>7</td>\n",
       "    </tr>\n",
       "    <tr>\n",
       "      <th>4200610</th>\n",
       "      <td>2023-09-13</td>\n",
       "      <td>8</td>\n",
       "      <td>1</td>\n",
       "      <td>OTOYOL</td>\n",
       "      <td>SULTANBEYLI-YAKACIK-KARTAL</td>\n",
       "      <td>Normal</td>\n",
       "      <td>114</td>\n",
       "      <td>112</td>\n",
       "    </tr>\n",
       "    <tr>\n",
       "      <th>4200611</th>\n",
       "      <td>2023-09-21</td>\n",
       "      <td>21</td>\n",
       "      <td>1</td>\n",
       "      <td>OTOYOL</td>\n",
       "      <td>S.SAHINBEY-MECIDIYEKOY</td>\n",
       "      <td>Normal</td>\n",
       "      <td>9</td>\n",
       "      <td>9</td>\n",
       "    </tr>\n",
       "  </tbody>\n",
       "</table>\n",
       "<p>4200612 rows × 8 columns</p>\n",
       "</div>"
      ],
      "text/plain": [
       "        transition_date  transition_hour  transport_type_id road_type  \\\n",
       "0            2023-09-25                9                  1    OTOYOL   \n",
       "1            2023-09-26               14                  1    OTOYOL   \n",
       "2            2023-09-07               22                  1    OTOYOL   \n",
       "3            2023-09-28               11                  1    OTOYOL   \n",
       "4            2023-09-08               22                  1    OTOYOL   \n",
       "...                 ...              ...                ...       ...   \n",
       "4200607      2023-09-07               19                  1    OTOYOL   \n",
       "4200608      2023-09-04               18                  1    OTOYOL   \n",
       "4200609      2023-09-30               10                  1    OTOYOL   \n",
       "4200610      2023-09-13                8                  1    OTOYOL   \n",
       "4200611      2023-09-21               21                  1    OTOYOL   \n",
       "\n",
       "                                                     line transfer_type  \\\n",
       "0                                  ZEYTINBURNU-KAZLICESME       Aktarma   \n",
       "1                   TARABYAUSTU-FREAHEVLER-ISTINYE ISKELE        Normal   \n",
       "2                         ISTINYEDEREICI-RESITPASA-SISLI        Aktarma   \n",
       "3                        KADIKOY-RASATHANE-ANADOLU HISARI        Normal   \n",
       "4                                       GUNESLI - BEYAZIT        Normal   \n",
       "...                                                   ...           ...   \n",
       "4200607             I.U AVCILAR KAMPUSU - SEHIR HASTANESI        Normal   \n",
       "4200608                              YENI MAHALLE-KADIKOY       Aktarma   \n",
       "4200609  CAMLICA CAMII - BULGURLU METRO - GOZTEPE KOPRUSU        Normal   \n",
       "4200610                        SULTANBEYLI-YAKACIK-KARTAL        Normal   \n",
       "4200611                            S.SAHINBEY-MECIDIYEKOY        Normal   \n",
       "\n",
       "         number_of_passage  number_of_passenger  \n",
       "0                        9                    9  \n",
       "1                        1                    1  \n",
       "2                        5                    5  \n",
       "3                        3                    3  \n",
       "4                      357                  351  \n",
       "...                    ...                  ...  \n",
       "4200607                  1                    1  \n",
       "4200608                  7                    7  \n",
       "4200609                  7                    7  \n",
       "4200610                114                  112  \n",
       "4200611                  9                    9  \n",
       "\n",
       "[4200612 rows x 8 columns]"
      ]
     },
     "execution_count": 53,
     "metadata": {},
     "output_type": "execute_result"
    }
   ],
   "source": [
    "data = pd.read_csv('https://data.ibb.gov.tr/dataset/a6855ce7-4092-40a5-82b5-34cf3c7e36e3/resource/b3f67274-4ebc-4453-8f6b-1dcc1b1bf008/download/hourly_transportation_202309.csv')\n",
    "# data = pd.read_csv('../data/2023-09-Istanbul-Transportation-Data.csv',sep='\\t')\n",
    "data"
   ]
  },
  {
   "cell_type": "code",
   "execution_count": 54,
   "id": "2774b233-028e-4ad2-a6eb-9222569a34b3",
   "metadata": {},
   "outputs": [
    {
     "data": {
      "text/plain": [
       "Index(['transition_date', 'transition_hour', 'transport_type_id', 'road_type',\n",
       "       'line', 'transfer_type', 'number_of_passage', 'number_of_passenger'],\n",
       "      dtype='object')"
      ]
     },
     "execution_count": 54,
     "metadata": {},
     "output_type": "execute_result"
    }
   ],
   "source": [
    "data.columns"
   ]
  },
  {
   "cell_type": "markdown",
   "id": "69b29ba4-db5c-4803-97ae-d3bbd5a3bd93",
   "metadata": {},
   "source": [
    "Pandas is very capable of doing a lot of stuff..."
   ]
  },
  {
   "cell_type": "code",
   "execution_count": 56,
   "id": "ba7621ef-f51c-40bc-ac7c-fa5117d44f01",
   "metadata": {},
   "outputs": [
    {
     "data": {
      "text/html": [
       "<div>\n",
       "<style scoped>\n",
       "    .dataframe tbody tr th:only-of-type {\n",
       "        vertical-align: middle;\n",
       "    }\n",
       "\n",
       "    .dataframe tbody tr th {\n",
       "        vertical-align: top;\n",
       "    }\n",
       "\n",
       "    .dataframe thead th {\n",
       "        text-align: right;\n",
       "    }\n",
       "</style>\n",
       "<table border=\"1\" class=\"dataframe\">\n",
       "  <thead>\n",
       "    <tr style=\"text-align: right;\">\n",
       "      <th></th>\n",
       "      <th>transition_date</th>\n",
       "      <th>transition_hour</th>\n",
       "      <th>transport_type_id</th>\n",
       "      <th>road_type</th>\n",
       "      <th>line</th>\n",
       "      <th>transfer_type</th>\n",
       "      <th>number_of_passage</th>\n",
       "      <th>number_of_passenger</th>\n",
       "    </tr>\n",
       "  </thead>\n",
       "  <tbody>\n",
       "    <tr>\n",
       "      <th>0</th>\n",
       "      <td>2023-09-25</td>\n",
       "      <td>9</td>\n",
       "      <td>1</td>\n",
       "      <td>OTOYOL</td>\n",
       "      <td>ZEYTINBURNU-KAZLICESME</td>\n",
       "      <td>Aktarma</td>\n",
       "      <td>9</td>\n",
       "      <td>9</td>\n",
       "    </tr>\n",
       "    <tr>\n",
       "      <th>1</th>\n",
       "      <td>2023-09-26</td>\n",
       "      <td>14</td>\n",
       "      <td>1</td>\n",
       "      <td>OTOYOL</td>\n",
       "      <td>TARABYAUSTU-FREAHEVLER-ISTINYE ISKELE</td>\n",
       "      <td>Normal</td>\n",
       "      <td>1</td>\n",
       "      <td>1</td>\n",
       "    </tr>\n",
       "    <tr>\n",
       "      <th>2</th>\n",
       "      <td>2023-09-07</td>\n",
       "      <td>22</td>\n",
       "      <td>1</td>\n",
       "      <td>OTOYOL</td>\n",
       "      <td>ISTINYEDEREICI-RESITPASA-SISLI</td>\n",
       "      <td>Aktarma</td>\n",
       "      <td>5</td>\n",
       "      <td>5</td>\n",
       "    </tr>\n",
       "    <tr>\n",
       "      <th>3</th>\n",
       "      <td>2023-09-28</td>\n",
       "      <td>11</td>\n",
       "      <td>1</td>\n",
       "      <td>OTOYOL</td>\n",
       "      <td>KADIKOY-RASATHANE-ANADOLU HISARI</td>\n",
       "      <td>Normal</td>\n",
       "      <td>3</td>\n",
       "      <td>3</td>\n",
       "    </tr>\n",
       "    <tr>\n",
       "      <th>4</th>\n",
       "      <td>2023-09-08</td>\n",
       "      <td>22</td>\n",
       "      <td>1</td>\n",
       "      <td>OTOYOL</td>\n",
       "      <td>GUNESLI - BEYAZIT</td>\n",
       "      <td>Normal</td>\n",
       "      <td>357</td>\n",
       "      <td>351</td>\n",
       "    </tr>\n",
       "    <tr>\n",
       "      <th>...</th>\n",
       "      <td>...</td>\n",
       "      <td>...</td>\n",
       "      <td>...</td>\n",
       "      <td>...</td>\n",
       "      <td>...</td>\n",
       "      <td>...</td>\n",
       "      <td>...</td>\n",
       "      <td>...</td>\n",
       "    </tr>\n",
       "    <tr>\n",
       "      <th>4200607</th>\n",
       "      <td>2023-09-07</td>\n",
       "      <td>19</td>\n",
       "      <td>1</td>\n",
       "      <td>OTOYOL</td>\n",
       "      <td>I.U AVCILAR KAMPUSU - SEHIR HASTANESI</td>\n",
       "      <td>Normal</td>\n",
       "      <td>1</td>\n",
       "      <td>1</td>\n",
       "    </tr>\n",
       "    <tr>\n",
       "      <th>4200608</th>\n",
       "      <td>2023-09-04</td>\n",
       "      <td>18</td>\n",
       "      <td>1</td>\n",
       "      <td>OTOYOL</td>\n",
       "      <td>YENI MAHALLE-KADIKOY</td>\n",
       "      <td>Aktarma</td>\n",
       "      <td>7</td>\n",
       "      <td>7</td>\n",
       "    </tr>\n",
       "    <tr>\n",
       "      <th>4200609</th>\n",
       "      <td>2023-09-30</td>\n",
       "      <td>10</td>\n",
       "      <td>1</td>\n",
       "      <td>OTOYOL</td>\n",
       "      <td>CAMLICA CAMII - BULGURLU METRO - GOZTEPE KOPRUSU</td>\n",
       "      <td>Normal</td>\n",
       "      <td>7</td>\n",
       "      <td>7</td>\n",
       "    </tr>\n",
       "    <tr>\n",
       "      <th>4200610</th>\n",
       "      <td>2023-09-13</td>\n",
       "      <td>8</td>\n",
       "      <td>1</td>\n",
       "      <td>OTOYOL</td>\n",
       "      <td>SULTANBEYLI-YAKACIK-KARTAL</td>\n",
       "      <td>Normal</td>\n",
       "      <td>114</td>\n",
       "      <td>112</td>\n",
       "    </tr>\n",
       "    <tr>\n",
       "      <th>4200611</th>\n",
       "      <td>2023-09-21</td>\n",
       "      <td>21</td>\n",
       "      <td>1</td>\n",
       "      <td>OTOYOL</td>\n",
       "      <td>S.SAHINBEY-MECIDIYEKOY</td>\n",
       "      <td>Normal</td>\n",
       "      <td>9</td>\n",
       "      <td>9</td>\n",
       "    </tr>\n",
       "  </tbody>\n",
       "</table>\n",
       "<p>4200612 rows × 8 columns</p>\n",
       "</div>"
      ],
      "text/plain": [
       "        transition_date  transition_hour  transport_type_id road_type  \\\n",
       "0            2023-09-25                9                  1    OTOYOL   \n",
       "1            2023-09-26               14                  1    OTOYOL   \n",
       "2            2023-09-07               22                  1    OTOYOL   \n",
       "3            2023-09-28               11                  1    OTOYOL   \n",
       "4            2023-09-08               22                  1    OTOYOL   \n",
       "...                 ...              ...                ...       ...   \n",
       "4200607      2023-09-07               19                  1    OTOYOL   \n",
       "4200608      2023-09-04               18                  1    OTOYOL   \n",
       "4200609      2023-09-30               10                  1    OTOYOL   \n",
       "4200610      2023-09-13                8                  1    OTOYOL   \n",
       "4200611      2023-09-21               21                  1    OTOYOL   \n",
       "\n",
       "                                                     line transfer_type  \\\n",
       "0                                  ZEYTINBURNU-KAZLICESME       Aktarma   \n",
       "1                   TARABYAUSTU-FREAHEVLER-ISTINYE ISKELE        Normal   \n",
       "2                         ISTINYEDEREICI-RESITPASA-SISLI        Aktarma   \n",
       "3                        KADIKOY-RASATHANE-ANADOLU HISARI        Normal   \n",
       "4                                       GUNESLI - BEYAZIT        Normal   \n",
       "...                                                   ...           ...   \n",
       "4200607             I.U AVCILAR KAMPUSU - SEHIR HASTANESI        Normal   \n",
       "4200608                              YENI MAHALLE-KADIKOY       Aktarma   \n",
       "4200609  CAMLICA CAMII - BULGURLU METRO - GOZTEPE KOPRUSU        Normal   \n",
       "4200610                        SULTANBEYLI-YAKACIK-KARTAL        Normal   \n",
       "4200611                            S.SAHINBEY-MECIDIYEKOY        Normal   \n",
       "\n",
       "         number_of_passage  number_of_passenger  \n",
       "0                        9                    9  \n",
       "1                        1                    1  \n",
       "2                        5                    5  \n",
       "3                        3                    3  \n",
       "4                      357                  351  \n",
       "...                    ...                  ...  \n",
       "4200607                  1                    1  \n",
       "4200608                  7                    7  \n",
       "4200609                  7                    7  \n",
       "4200610                114                  112  \n",
       "4200611                  9                    9  \n",
       "\n",
       "[4200612 rows x 8 columns]"
      ]
     },
     "execution_count": 56,
     "metadata": {},
     "output_type": "execute_result"
    }
   ],
   "source": [
    "data['transition_date'] = pd.to_datetime(data['transition_date'])\n",
    "data"
   ]
  },
  {
   "cell_type": "code",
   "execution_count": 60,
   "id": "31dc57ab-cd8f-41c6-bbd7-0e22f3e4e5ee",
   "metadata": {},
   "outputs": [
    {
     "data": {
      "text/html": [
       "<div>\n",
       "<style scoped>\n",
       "    .dataframe tbody tr th:only-of-type {\n",
       "        vertical-align: middle;\n",
       "    }\n",
       "\n",
       "    .dataframe tbody tr th {\n",
       "        vertical-align: top;\n",
       "    }\n",
       "\n",
       "    .dataframe thead th {\n",
       "        text-align: right;\n",
       "    }\n",
       "</style>\n",
       "<table border=\"1\" class=\"dataframe\">\n",
       "  <thead>\n",
       "    <tr style=\"text-align: right;\">\n",
       "      <th></th>\n",
       "      <th>transition_date</th>\n",
       "      <th>transition_hour</th>\n",
       "      <th>road_type</th>\n",
       "      <th>number_of_passenger</th>\n",
       "      <th>number_of_passage</th>\n",
       "    </tr>\n",
       "  </thead>\n",
       "  <tbody>\n",
       "    <tr>\n",
       "      <th>0</th>\n",
       "      <td>2023-09-25</td>\n",
       "      <td>9</td>\n",
       "      <td>OTOYOL</td>\n",
       "      <td>9</td>\n",
       "      <td>9</td>\n",
       "    </tr>\n",
       "    <tr>\n",
       "      <th>1</th>\n",
       "      <td>2023-09-26</td>\n",
       "      <td>14</td>\n",
       "      <td>OTOYOL</td>\n",
       "      <td>1</td>\n",
       "      <td>1</td>\n",
       "    </tr>\n",
       "    <tr>\n",
       "      <th>2</th>\n",
       "      <td>2023-09-07</td>\n",
       "      <td>22</td>\n",
       "      <td>OTOYOL</td>\n",
       "      <td>5</td>\n",
       "      <td>5</td>\n",
       "    </tr>\n",
       "    <tr>\n",
       "      <th>3</th>\n",
       "      <td>2023-09-28</td>\n",
       "      <td>11</td>\n",
       "      <td>OTOYOL</td>\n",
       "      <td>3</td>\n",
       "      <td>3</td>\n",
       "    </tr>\n",
       "    <tr>\n",
       "      <th>4</th>\n",
       "      <td>2023-09-08</td>\n",
       "      <td>22</td>\n",
       "      <td>OTOYOL</td>\n",
       "      <td>351</td>\n",
       "      <td>357</td>\n",
       "    </tr>\n",
       "    <tr>\n",
       "      <th>...</th>\n",
       "      <td>...</td>\n",
       "      <td>...</td>\n",
       "      <td>...</td>\n",
       "      <td>...</td>\n",
       "      <td>...</td>\n",
       "    </tr>\n",
       "    <tr>\n",
       "      <th>4200607</th>\n",
       "      <td>2023-09-07</td>\n",
       "      <td>19</td>\n",
       "      <td>OTOYOL</td>\n",
       "      <td>1</td>\n",
       "      <td>1</td>\n",
       "    </tr>\n",
       "    <tr>\n",
       "      <th>4200608</th>\n",
       "      <td>2023-09-04</td>\n",
       "      <td>18</td>\n",
       "      <td>OTOYOL</td>\n",
       "      <td>7</td>\n",
       "      <td>7</td>\n",
       "    </tr>\n",
       "    <tr>\n",
       "      <th>4200609</th>\n",
       "      <td>2023-09-30</td>\n",
       "      <td>10</td>\n",
       "      <td>OTOYOL</td>\n",
       "      <td>7</td>\n",
       "      <td>7</td>\n",
       "    </tr>\n",
       "    <tr>\n",
       "      <th>4200610</th>\n",
       "      <td>2023-09-13</td>\n",
       "      <td>8</td>\n",
       "      <td>OTOYOL</td>\n",
       "      <td>112</td>\n",
       "      <td>114</td>\n",
       "    </tr>\n",
       "    <tr>\n",
       "      <th>4200611</th>\n",
       "      <td>2023-09-21</td>\n",
       "      <td>21</td>\n",
       "      <td>OTOYOL</td>\n",
       "      <td>9</td>\n",
       "      <td>9</td>\n",
       "    </tr>\n",
       "  </tbody>\n",
       "</table>\n",
       "<p>4200612 rows × 5 columns</p>\n",
       "</div>"
      ],
      "text/plain": [
       "        transition_date  transition_hour road_type  number_of_passenger  \\\n",
       "0            2023-09-25                9    OTOYOL                    9   \n",
       "1            2023-09-26               14    OTOYOL                    1   \n",
       "2            2023-09-07               22    OTOYOL                    5   \n",
       "3            2023-09-28               11    OTOYOL                    3   \n",
       "4            2023-09-08               22    OTOYOL                  351   \n",
       "...                 ...              ...       ...                  ...   \n",
       "4200607      2023-09-07               19    OTOYOL                    1   \n",
       "4200608      2023-09-04               18    OTOYOL                    7   \n",
       "4200609      2023-09-30               10    OTOYOL                    7   \n",
       "4200610      2023-09-13                8    OTOYOL                  112   \n",
       "4200611      2023-09-21               21    OTOYOL                    9   \n",
       "\n",
       "         number_of_passage  \n",
       "0                        9  \n",
       "1                        1  \n",
       "2                        5  \n",
       "3                        3  \n",
       "4                      357  \n",
       "...                    ...  \n",
       "4200607                  1  \n",
       "4200608                  7  \n",
       "4200609                  7  \n",
       "4200610                114  \n",
       "4200611                  9  \n",
       "\n",
       "[4200612 rows x 5 columns]"
      ]
     },
     "execution_count": 60,
     "metadata": {},
     "output_type": "execute_result"
    }
   ],
   "source": [
    "subset = data[['transition_date','transition_hour','road_type','number_of_passenger','number_of_passage']]\n",
    "subset"
   ]
  },
  {
   "cell_type": "code",
   "execution_count": 30,
   "id": "3e3a1007-8f55-4288-93c6-9dcdb50c4e23",
   "metadata": {},
   "outputs": [
    {
     "data": {
      "text/plain": [
       "road_type\n",
       "DENİZ       6206711\n",
       "OTOYOL    108723269\n",
       "RAYLI      85788212\n",
       "Name: number_of_passage, dtype: int64"
      ]
     },
     "execution_count": 30,
     "metadata": {},
     "output_type": "execute_result"
    }
   ],
   "source": [
    "subset['number_of_passage'].groupby(subset['road_type']).sum()"
   ]
  },
  {
   "cell_type": "code",
   "execution_count": 61,
   "id": "84126e96-43d5-47bd-887b-10df51bb484c",
   "metadata": {},
   "outputs": [
    {
     "data": {
      "text/plain": [
       "<Axes: xlabel='transition_hour'>"
      ]
     },
     "execution_count": 61,
     "metadata": {},
     "output_type": "execute_result"
    },
    {
     "data": {
      "image/png": "[encoded data removed]",
      "text/plain": [
       "<Figure size 1800x300 with 1 Axes>"
      ]
     },
     "metadata": {},
     "output_type": "display_data"
    }
   ],
   "source": [
    "subset['number_of_passage'].groupby(subset['transition_hour']).mean().plot(figsize=(18,3))"
   ]
  },
  {
   "cell_type": "code",
   "execution_count": 63,
   "id": "cfeb4b7f-2d79-4deb-84b3-7335e1bf2828",
   "metadata": {},
   "outputs": [
    {
     "data": {
      "text/plain": [
       "<Axes: xlabel='transition_hour'>"
      ]
     },
     "execution_count": 63,
     "metadata": {},
     "output_type": "execute_result"
    },
    {
     "data": {
      "image/png": "[encoded data removed]",
      "text/plain": [
       "<Figure size 1800x300 with 1 Axes>"
      ]
     },
     "metadata": {},
     "output_type": "display_data"
    }
   ],
   "source": [
    "subset['number_of_passage'][ subset['road_type'] == \"OTOYOL\" ].groupby(subset['transition_hour']).sum().plot(figsize=(18,3))"
   ]
  },
  {
   "cell_type": "code",
   "execution_count": 64,
   "id": "9176b042-8e8f-48e4-9894-8bb587381263",
   "metadata": {},
   "outputs": [
    {
     "data": {
      "text/plain": [
       "<Axes: xlabel='transition_hour'>"
      ]
     },
     "execution_count": 64,
     "metadata": {},
     "output_type": "execute_result"
    },
    {
     "data": {
      "image/png": "[encoded data removed]",
      "text/plain": [
       "<Figure size 1800x300 with 1 Axes>"
      ]
     },
     "metadata": {},
     "output_type": "display_data"
    }
   ],
   "source": [
    "subset.query('road_type==\"OTOYOL\"')['number_of_passage'].groupby(subset['transition_hour']).sum().plot(figsize=(18,3))"
   ]
  },
  {
   "cell_type": "code",
   "execution_count": 66,
   "id": "e4a35354-9b39-41b7-a186-d0a7aedce9f0",
   "metadata": {},
   "outputs": [
    {
     "data": {
      "text/plain": [
       "<Axes: xlabel='transition_hour'>"
      ]
     },
     "execution_count": 66,
     "metadata": {},
     "output_type": "execute_result"
    },
    {
     "data": {
      "image/png": "[encoded data removed]",
      "text/plain": [
       "<Figure size 1800x300 with 1 Axes>"
      ]
     },
     "metadata": {},
     "output_type": "display_data"
    }
   ],
   "source": [
    "subset.query('road_type==\"RAYLI\"')['number_of_passage'].groupby(subset['transition_hour']).sum().plot(figsize=(18,3))"
   ]
  },
  {
   "cell_type": "code",
   "execution_count": 67,
   "id": "9b26fddc-90e9-46ec-bb6e-84610989ca39",
   "metadata": {},
   "outputs": [
    {
     "data": {
      "text/plain": [
       "<Axes: xlabel='transition_hour'>"
      ]
     },
     "execution_count": 67,
     "metadata": {},
     "output_type": "execute_result"
    },
    {
     "data": {
      "image/png": "[encoded data removed]",
      "text/plain": [
       "<Figure size 1800x300 with 1 Axes>"
      ]
     },
     "metadata": {},
     "output_type": "display_data"
    }
   ],
   "source": [
    "subset.query('road_type==\"DENİZ\"')['number_of_passage'].groupby(subset['transition_hour']).sum().plot(figsize=(18,3))"
   ]
  },
  {
   "cell_type": "markdown",
   "id": "910fc881-13f5-48a4-b0e6-27d8ef68ff0a",
   "metadata": {},
   "source": [
    "## scikit-learn and other libraries\n",
    "\n",
    "[scikit-learn](https://scikit-learn.org/) will be your go-to library for anything that involves machine learning algorithms, evaluation and error metrics."
   ]
  },
  {
   "cell_type": "code",
   "execution_count": 68,
   "id": "c26fa14a-19b5-41a0-b936-c29e0de388ab",
   "metadata": {},
   "outputs": [],
   "source": [
    "from sklearn import datasets\n",
    "from sklearn.decomposition import PCA\n",
    "\n",
    "import matplotlib.pyplot as plt"
   ]
  },
  {
   "cell_type": "code",
   "execution_count": 99,
   "id": "0c161bda-fe75-4480-b2cb-27e66e5fe533",
   "metadata": {
    "scrolled": true
   },
   "outputs": [
    {
     "data": {
      "text/plain": [
       "array([0, 0, 0, 0, 0, 0, 0, 0, 0, 0, 0, 0, 0, 0, 0, 0, 0, 0, 0, 0, 0, 0,\n",
       "       0, 0, 0, 0, 0, 0, 0, 0, 0, 0, 0, 0, 0, 0, 0, 0, 0, 0, 0, 0, 0, 0,\n",
       "       0, 0, 0, 0, 0, 0, 1, 1, 1, 1, 1, 1, 1, 1, 1, 1, 1, 1, 1, 1, 1, 1,\n",
       "       1, 1, 1, 1, 1, 1, 1, 1, 1, 1, 1, 1, 1, 1, 1, 1, 1, 1, 1, 1, 1, 1,\n",
       "       1, 1, 1, 1, 1, 1, 1, 1, 1, 1, 1, 1, 2, 2, 2, 2, 2, 2, 2, 2, 2, 2,\n",
       "       2, 2, 2, 2, 2, 2, 2, 2, 2, 2, 2, 2, 2, 2, 2, 2, 2, 2, 2, 2, 2, 2,\n",
       "       2, 2, 2, 2, 2, 2, 2, 2, 2, 2, 2, 2, 2, 2, 2, 2, 2, 2])"
      ]
     },
     "execution_count": 99,
     "metadata": {},
     "output_type": "execute_result"
    }
   ],
   "source": [
    "iris = datasets.load_iris()\n",
    "#iris['target_names']\n",
    "iris['target']"
   ]
  },
  {
   "cell_type": "code",
   "execution_count": 74,
   "id": "935daf59-d789-4bed-981d-2083fba5149b",
   "metadata": {
    "scrolled": true
   },
   "outputs": [
    {
     "data": {
      "text/plain": [
       "array([[-2.68412563,  0.31939725],\n",
       "       [-2.71414169, -0.17700123],\n",
       "       [-2.88899057, -0.14494943],\n",
       "       [-2.74534286, -0.31829898],\n",
       "       [-2.72871654,  0.32675451],\n",
       "       [-2.28085963,  0.74133045],\n",
       "       [-2.82053775, -0.08946138],\n",
       "       [-2.62614497,  0.16338496],\n",
       "       [-2.88638273, -0.57831175],\n",
       "       [-2.6727558 , -0.11377425],\n",
       "       [-2.50694709,  0.6450689 ],\n",
       "       [-2.61275523,  0.01472994],\n",
       "       [-2.78610927, -0.235112  ],\n",
       "       [-3.22380374, -0.51139459],\n",
       "       [-2.64475039,  1.17876464],\n",
       "       [-2.38603903,  1.33806233],\n",
       "       [-2.62352788,  0.81067951],\n",
       "       [-2.64829671,  0.31184914],\n",
       "       [-2.19982032,  0.87283904],\n",
       "       [-2.5879864 ,  0.51356031],\n",
       "       [-2.31025622,  0.39134594],\n",
       "       [-2.54370523,  0.43299606],\n",
       "       [-3.21593942,  0.13346807],\n",
       "       [-2.30273318,  0.09870885],\n",
       "       [-2.35575405, -0.03728186],\n",
       "       [-2.50666891, -0.14601688],\n",
       "       [-2.46882007,  0.13095149],\n",
       "       [-2.56231991,  0.36771886],\n",
       "       [-2.63953472,  0.31203998],\n",
       "       [-2.63198939, -0.19696122],\n",
       "       [-2.58739848, -0.20431849],\n",
       "       [-2.4099325 ,  0.41092426],\n",
       "       [-2.64886233,  0.81336382],\n",
       "       [-2.59873675,  1.09314576],\n",
       "       [-2.63692688, -0.12132235],\n",
       "       [-2.86624165,  0.06936447],\n",
       "       [-2.62523805,  0.59937002],\n",
       "       [-2.80068412,  0.26864374],\n",
       "       [-2.98050204, -0.48795834],\n",
       "       [-2.59000631,  0.22904384],\n",
       "       [-2.77010243,  0.26352753],\n",
       "       [-2.84936871, -0.94096057],\n",
       "       [-2.99740655, -0.34192606],\n",
       "       [-2.40561449,  0.18887143],\n",
       "       [-2.20948924,  0.43666314],\n",
       "       [-2.71445143, -0.2502082 ],\n",
       "       [-2.53814826,  0.50377114],\n",
       "       [-2.83946217, -0.22794557],\n",
       "       [-2.54308575,  0.57941002],\n",
       "       [-2.70335978,  0.10770608],\n",
       "       [ 1.28482569,  0.68516047],\n",
       "       [ 0.93248853,  0.31833364],\n",
       "       [ 1.46430232,  0.50426282],\n",
       "       [ 0.18331772, -0.82795901],\n",
       "       [ 1.08810326,  0.07459068],\n",
       "       [ 0.64166908, -0.41824687],\n",
       "       [ 1.09506066,  0.28346827],\n",
       "       [-0.74912267, -1.00489096],\n",
       "       [ 1.04413183,  0.2283619 ],\n",
       "       [-0.0087454 , -0.72308191],\n",
       "       [-0.50784088, -1.26597119],\n",
       "       [ 0.51169856, -0.10398124],\n",
       "       [ 0.26497651, -0.55003646],\n",
       "       [ 0.98493451, -0.12481785],\n",
       "       [-0.17392537, -0.25485421],\n",
       "       [ 0.92786078,  0.46717949],\n",
       "       [ 0.66028376, -0.35296967],\n",
       "       [ 0.23610499, -0.33361077],\n",
       "       [ 0.94473373, -0.54314555],\n",
       "       [ 0.04522698, -0.58383438],\n",
       "       [ 1.11628318, -0.08461685],\n",
       "       [ 0.35788842, -0.06892503],\n",
       "       [ 1.29818388, -0.32778731],\n",
       "       [ 0.92172892, -0.18273779],\n",
       "       [ 0.71485333,  0.14905594],\n",
       "       [ 0.90017437,  0.32850447],\n",
       "       [ 1.33202444,  0.24444088],\n",
       "       [ 1.55780216,  0.26749545],\n",
       "       [ 0.81329065, -0.1633503 ],\n",
       "       [-0.30558378, -0.36826219],\n",
       "       [-0.06812649, -0.70517213],\n",
       "       [-0.18962247, -0.68028676],\n",
       "       [ 0.13642871, -0.31403244],\n",
       "       [ 1.38002644, -0.42095429],\n",
       "       [ 0.58800644, -0.48428742],\n",
       "       [ 0.80685831,  0.19418231],\n",
       "       [ 1.22069088,  0.40761959],\n",
       "       [ 0.81509524, -0.37203706],\n",
       "       [ 0.24595768, -0.2685244 ],\n",
       "       [ 0.16641322, -0.68192672],\n",
       "       [ 0.46480029, -0.67071154],\n",
       "       [ 0.8908152 , -0.03446444],\n",
       "       [ 0.23054802, -0.40438585],\n",
       "       [-0.70453176, -1.01224823],\n",
       "       [ 0.35698149, -0.50491009],\n",
       "       [ 0.33193448, -0.21265468],\n",
       "       [ 0.37621565, -0.29321893],\n",
       "       [ 0.64257601,  0.01773819],\n",
       "       [-0.90646986, -0.75609337],\n",
       "       [ 0.29900084, -0.34889781],\n",
       "       [ 2.53119273, -0.00984911],\n",
       "       [ 1.41523588, -0.57491635],\n",
       "       [ 2.61667602,  0.34390315],\n",
       "       [ 1.97153105, -0.1797279 ],\n",
       "       [ 2.35000592, -0.04026095],\n",
       "       [ 3.39703874,  0.55083667],\n",
       "       [ 0.52123224, -1.19275873],\n",
       "       [ 2.93258707,  0.3555    ],\n",
       "       [ 2.32122882, -0.2438315 ],\n",
       "       [ 2.91675097,  0.78279195],\n",
       "       [ 1.66177415,  0.24222841],\n",
       "       [ 1.80340195, -0.21563762],\n",
       "       [ 2.1655918 ,  0.21627559],\n",
       "       [ 1.34616358, -0.77681835],\n",
       "       [ 1.58592822, -0.53964071],\n",
       "       [ 1.90445637,  0.11925069],\n",
       "       [ 1.94968906,  0.04194326],\n",
       "       [ 3.48705536,  1.17573933],\n",
       "       [ 3.79564542,  0.25732297],\n",
       "       [ 1.30079171, -0.76114964],\n",
       "       [ 2.42781791,  0.37819601],\n",
       "       [ 1.19900111, -0.60609153],\n",
       "       [ 3.49992004,  0.4606741 ],\n",
       "       [ 1.38876613, -0.20439933],\n",
       "       [ 2.2754305 ,  0.33499061],\n",
       "       [ 2.61409047,  0.56090136],\n",
       "       [ 1.25850816, -0.17970479],\n",
       "       [ 1.29113206, -0.11666865],\n",
       "       [ 2.12360872, -0.20972948],\n",
       "       [ 2.38800302,  0.4646398 ],\n",
       "       [ 2.84167278,  0.37526917],\n",
       "       [ 3.23067366,  1.37416509],\n",
       "       [ 2.15943764, -0.21727758],\n",
       "       [ 1.44416124, -0.14341341],\n",
       "       [ 1.78129481, -0.49990168],\n",
       "       [ 3.07649993,  0.68808568],\n",
       "       [ 2.14424331,  0.1400642 ],\n",
       "       [ 1.90509815,  0.04930053],\n",
       "       [ 1.16932634, -0.16499026],\n",
       "       [ 2.10761114,  0.37228787],\n",
       "       [ 2.31415471,  0.18365128],\n",
       "       [ 1.9222678 ,  0.40920347],\n",
       "       [ 1.41523588, -0.57491635],\n",
       "       [ 2.56301338,  0.2778626 ],\n",
       "       [ 2.41874618,  0.3047982 ],\n",
       "       [ 1.94410979,  0.1875323 ],\n",
       "       [ 1.52716661, -0.37531698],\n",
       "       [ 1.76434572,  0.07885885],\n",
       "       [ 1.90094161,  0.11662796],\n",
       "       [ 1.39018886, -0.28266094]])"
      ]
     },
     "execution_count": 74,
     "metadata": {},
     "output_type": "execute_result"
    }
   ],
   "source": [
    "projection = PCA(n_components=2)\n",
    "projection.fit(iris['data'])\n",
    "transformed = projection.transform(iris['data'])\n",
    "transformed"
   ]
  },
  {
   "cell_type": "code",
   "execution_count": 75,
   "id": "bbf50b8f-371f-452a-bf18-94a56e5b8dfe",
   "metadata": {},
   "outputs": [
    {
     "data": {
      "text/html": [
       "<div>\n",
       "<style scoped>\n",
       "    .dataframe tbody tr th:only-of-type {\n",
       "        vertical-align: middle;\n",
       "    }\n",
       "\n",
       "    .dataframe tbody tr th {\n",
       "        vertical-align: top;\n",
       "    }\n",
       "\n",
       "    .dataframe thead th {\n",
       "        text-align: right;\n",
       "    }\n",
       "</style>\n",
       "<table border=\"1\" class=\"dataframe\">\n",
       "  <thead>\n",
       "    <tr style=\"text-align: right;\">\n",
       "      <th></th>\n",
       "      <th>X</th>\n",
       "      <th>Y</th>\n",
       "      <th>Species</th>\n",
       "    </tr>\n",
       "  </thead>\n",
       "  <tbody>\n",
       "    <tr>\n",
       "      <th>0</th>\n",
       "      <td>-2.684126</td>\n",
       "      <td>0.319397</td>\n",
       "      <td>0</td>\n",
       "    </tr>\n",
       "    <tr>\n",
       "      <th>1</th>\n",
       "      <td>-2.714142</td>\n",
       "      <td>-0.177001</td>\n",
       "      <td>0</td>\n",
       "    </tr>\n",
       "    <tr>\n",
       "      <th>2</th>\n",
       "      <td>-2.888991</td>\n",
       "      <td>-0.144949</td>\n",
       "      <td>0</td>\n",
       "    </tr>\n",
       "    <tr>\n",
       "      <th>3</th>\n",
       "      <td>-2.745343</td>\n",
       "      <td>-0.318299</td>\n",
       "      <td>0</td>\n",
       "    </tr>\n",
       "    <tr>\n",
       "      <th>4</th>\n",
       "      <td>-2.728717</td>\n",
       "      <td>0.326755</td>\n",
       "      <td>0</td>\n",
       "    </tr>\n",
       "    <tr>\n",
       "      <th>...</th>\n",
       "      <td>...</td>\n",
       "      <td>...</td>\n",
       "      <td>...</td>\n",
       "    </tr>\n",
       "    <tr>\n",
       "      <th>145</th>\n",
       "      <td>1.944110</td>\n",
       "      <td>0.187532</td>\n",
       "      <td>2</td>\n",
       "    </tr>\n",
       "    <tr>\n",
       "      <th>146</th>\n",
       "      <td>1.527167</td>\n",
       "      <td>-0.375317</td>\n",
       "      <td>2</td>\n",
       "    </tr>\n",
       "    <tr>\n",
       "      <th>147</th>\n",
       "      <td>1.764346</td>\n",
       "      <td>0.078859</td>\n",
       "      <td>2</td>\n",
       "    </tr>\n",
       "    <tr>\n",
       "      <th>148</th>\n",
       "      <td>1.900942</td>\n",
       "      <td>0.116628</td>\n",
       "      <td>2</td>\n",
       "    </tr>\n",
       "    <tr>\n",
       "      <th>149</th>\n",
       "      <td>1.390189</td>\n",
       "      <td>-0.282661</td>\n",
       "      <td>2</td>\n",
       "    </tr>\n",
       "  </tbody>\n",
       "</table>\n",
       "<p>150 rows × 3 columns</p>\n",
       "</div>"
      ],
      "text/plain": [
       "            X         Y  Species\n",
       "0   -2.684126  0.319397        0\n",
       "1   -2.714142 -0.177001        0\n",
       "2   -2.888991 -0.144949        0\n",
       "3   -2.745343 -0.318299        0\n",
       "4   -2.728717  0.326755        0\n",
       "..        ...       ...      ...\n",
       "145  1.944110  0.187532        2\n",
       "146  1.527167 -0.375317        2\n",
       "147  1.764346  0.078859        2\n",
       "148  1.900942  0.116628        2\n",
       "149  1.390189 -0.282661        2\n",
       "\n",
       "[150 rows x 3 columns]"
      ]
     },
     "execution_count": 75,
     "metadata": {},
     "output_type": "execute_result"
    }
   ],
   "source": [
    "projected_data = pd.DataFrame(transformed,columns=['X','Y'])\n",
    "projected_data['Species'] = iris['target']\n",
    "projected_data"
   ]
  },
  {
   "cell_type": "code",
   "execution_count": 76,
   "id": "5708946a-7704-417f-8381-019fc8d906ba",
   "metadata": {},
   "outputs": [
    {
     "data": {
      "text/plain": [
       "<matplotlib.collections.PathCollection at 0x7f0801dd3950>"
      ]
     },
     "execution_count": 76,
     "metadata": {},
     "output_type": "execute_result"
    },
    {
     "data": {
      "image/png": "[encoded data removed]",
      "text/plain": [
       "<Figure size 1800x600 with 1 Axes>"
      ]
     },
     "metadata": {},
     "output_type": "display_data"
    }
   ],
   "source": [
    "plt.figure(figsize=(18,6))\n",
    "plt.scatter(projected_data['X'],projected_data['Y'],c=iris['target'])"
   ]
  },
  {
   "cell_type": "code",
   "execution_count": 103,
   "id": "b6d8faa1-8bc9-4a64-956b-e5afe4533106",
   "metadata": {},
   "outputs": [
    {
     "data": {
      "text/plain": [
       "<matplotlib.collections.PathCollection at 0x7f07d4761ed0>"
      ]
     },
     "execution_count": 103,
     "metadata": {},
     "output_type": "execute_result"
    },
    {
     "data": {
      "image/png": "[encoded data removed]",
      "text/plain": [
       "<Figure size 1800x600 with 1 Axes>"
      ]
     },
     "metadata": {},
     "output_type": "display_data"
    }
   ],
   "source": [
    "from sklearn.discriminant_analysis import LinearDiscriminantAnalysis as LDA\n",
    "\n",
    "projection = LDA(n_components=2)\n",
    "projection.fit(iris['data'], y=iris['target'])\n",
    "transformed = projection.transform(iris['data'])\n",
    "projected_data = pd.DataFrame(transformed,columns=['X','Y'])\n",
    "projected_data['Species'] = iris['target']\n",
    "plt.figure(figsize=(18,6))\n",
    "plt.scatter(projected_data['X'],projected_data['Y'],c=iris['target'])"
   ]
  },
  {
   "cell_type": "code",
   "execution_count": 77,
   "id": "f7bbc3ba-6c78-4aac-9fcd-0745f075ac61",
   "metadata": {},
   "outputs": [
    {
     "data": {
      "text/html": [
       "\n",
       "<style>\n",
       "  #altair-viz-04836818768d4db6b94aedb5e213fc77.vega-embed {\n",
       "    width: 100%;\n",
       "    display: flex;\n",
       "  }\n",
       "\n",
       "  #altair-viz-04836818768d4db6b94aedb5e213fc77.vega-embed details,\n",
       "  #altair-viz-04836818768d4db6b94aedb5e213fc77.vega-embed details summary {\n",
       "    position: relative;\n",
       "  }\n",
       "</style>\n",
       "<div id=\"altair-viz-04836818768d4db6b94aedb5e213fc77\"></div>\n",
       "<script type=\"text/javascript\">\n",
       "  var VEGA_DEBUG = (typeof VEGA_DEBUG == \"undefined\") ? {} : VEGA_DEBUG;\n",
       "  (function(spec, embedOpt){\n",
       "    let outputDiv = document.currentScript.previousElementSibling;\n",
       "    if (outputDiv.id !== \"altair-viz-04836818768d4db6b94aedb5e213fc77\") {\n",
       "      outputDiv = document.getElementById(\"altair-viz-04836818768d4db6b94aedb5e213fc77\");\n",
       "    }\n",
       "    const paths = {\n",
       "      \"vega\": \"https://cdn.jsdelivr.net/npm/vega@5?noext\",\n",
       "      \"vega-lib\": \"https://cdn.jsdelivr.net/npm/vega-lib?noext\",\n",
       "      \"vega-lite\": \"https://cdn.jsdelivr.net/npm/vega-lite@5.16.3?noext\",\n",
       "      \"vega-embed\": \"https://cdn.jsdelivr.net/npm/vega-embed@6?noext\",\n",
       "    };\n",
       "\n",
       "    function maybeLoadScript(lib, version) {\n",
       "      var key = `${lib.replace(\"-\", \"\")}_version`;\n",
       "      return (VEGA_DEBUG[key] == version) ?\n",
       "        Promise.resolve(paths[lib]) :\n",
       "        new Promise(function(resolve, reject) {\n",
       "          var s = document.createElement('script');\n",
       "          document.getElementsByTagName(\"head\")[0].appendChild(s);\n",
       "          s.async = true;\n",
       "          s.onload = () => {\n",
       "            VEGA_DEBUG[key] = version;\n",
       "            return resolve(paths[lib]);\n",
       "          };\n",
       "          s.onerror = () => reject(`Error loading script: ${paths[lib]}`);\n",
       "          s.src = paths[lib];\n",
       "        });\n",
       "    }\n",
       "\n",
       "    function showError(err) {\n",
       "      outputDiv.innerHTML = `<div class=\"error\" style=\"color:red;\">${err}</div>`;\n",
       "      throw err;\n",
       "    }\n",
       "\n",
       "    function displayChart(vegaEmbed) {\n",
       "      vegaEmbed(outputDiv, spec, embedOpt)\n",
       "        .catch(err => showError(`Javascript Error: ${err.message}<br>This usually means there's a typo in your chart specification. See the javascript console for the full traceback.`));\n",
       "    }\n",
       "\n",
       "    if(typeof define === \"function\" && define.amd) {\n",
       "      requirejs.config({paths});\n",
       "      require([\"vega-embed\"], displayChart, err => showError(`Error loading script: ${err.message}`));\n",
       "    } else {\n",
       "      maybeLoadScript(\"vega\", \"5\")\n",
       "        .then(() => maybeLoadScript(\"vega-lite\", \"5.16.3\"))\n",
       "        .then(() => maybeLoadScript(\"vega-embed\", \"6\"))\n",
       "        .catch(showError)\n",
       "        .then(() => displayChart(vegaEmbed));\n",
       "    }\n",
       "  })({\"config\": {\"view\": {\"continuousWidth\": 300, \"continuousHeight\": 300}}, \"data\": {\"name\": \"data-fa7341effc19a3f489627e26187c1404\"}, \"mark\": {\"type\": \"circle\", \"size\": 60}, \"encoding\": {\"color\": {\"field\": \"Name\", \"scale\": {\"scheme\": \"category10\"}}, \"tooltip\": [{\"field\": \"Name\", \"type\": \"nominal\"}], \"x\": {\"field\": \"X\", \"type\": \"quantitative\"}, \"y\": {\"field\": \"Y\", \"type\": \"quantitative\"}}, \"height\": 400, \"params\": [{\"name\": \"param_1\", \"select\": {\"type\": \"interval\", \"encodings\": [\"x\", \"y\"]}, \"bind\": \"scales\"}], \"title\": \"Scatter plot of Iris Dataset after PCA\", \"width\": 800, \"$schema\": \"https://vega.github.io/schema/vega-lite/v5.16.3.json\", \"datasets\": {\"data-fa7341effc19a3f489627e26187c1404\": [{\"X\": -2.684125625969537, \"Y\": 0.31939724658510055, \"Species\": 0, \"Name\": \"setosa\"}, {\"X\": -2.714141687294326, \"Y\": -0.17700122506478083, \"Species\": 0, \"Name\": \"setosa\"}, {\"X\": -2.888990569059297, \"Y\": -0.14494942608555825, \"Species\": 0, \"Name\": \"setosa\"}, {\"X\": -2.74534285564141, \"Y\": -0.31829897925191697, \"Species\": 0, \"Name\": \"setosa\"}, {\"X\": -2.7287165365545305, \"Y\": 0.32675451293491925, \"Species\": 0, \"Name\": \"setosa\"}, {\"X\": -2.2808596328444923, \"Y\": 0.7413304490629145, \"Species\": 0, \"Name\": \"setosa\"}, {\"X\": -2.820537750740609, \"Y\": -0.08946138452856968, \"Species\": 0, \"Name\": \"setosa\"}, {\"X\": -2.626144973146633, \"Y\": 0.16338495969832806, \"Species\": 0, \"Name\": \"setosa\"}, {\"X\": -2.8863827317805533, \"Y\": -0.5783117541867047, \"Species\": 0, \"Name\": \"setosa\"}, {\"X\": -2.672755797820954, \"Y\": -0.11377424587411751, \"Species\": 0, \"Name\": \"setosa\"}, {\"X\": -2.506947090651856, \"Y\": 0.6450688986485734, \"Species\": 0, \"Name\": \"setosa\"}, {\"X\": -2.612755230908723, \"Y\": 0.014729939161373752, \"Species\": 0, \"Name\": \"setosa\"}, {\"X\": -2.786109266188018, \"Y\": -0.23511200020171907, \"Species\": 0, \"Name\": \"setosa\"}, {\"X\": -3.223803743865653, \"Y\": -0.511394587006383, \"Species\": 0, \"Name\": \"setosa\"}, {\"X\": -2.64475038994203, \"Y\": 1.178764636437575, \"Species\": 0, \"Name\": \"setosa\"}, {\"X\": -2.3860390335311332, \"Y\": 1.338062330400652, \"Species\": 0, \"Name\": \"setosa\"}, {\"X\": -2.623527875224427, \"Y\": 0.8106795141812573, \"Species\": 0, \"Name\": \"setosa\"}, {\"X\": -2.648296706254382, \"Y\": 0.31184914459335417, \"Species\": 0, \"Name\": \"setosa\"}, {\"X\": -2.19982032361758, \"Y\": 0.8728390389622106, \"Species\": 0, \"Name\": \"setosa\"}, {\"X\": -2.5879863998787687, \"Y\": 0.5135603087492763, \"Species\": 0, \"Name\": \"setosa\"}, {\"X\": -2.3102562152425183, \"Y\": 0.3913459356538938, \"Species\": 0, \"Name\": \"setosa\"}, {\"X\": -2.543705228757157, \"Y\": 0.4329960632790276, \"Species\": 0, \"Name\": \"setosa\"}, {\"X\": -3.2159394156486116, \"Y\": 0.1334680695385249, \"Species\": 0, \"Name\": \"setosa\"}, {\"X\": -2.302733182226207, \"Y\": 0.09870885481409888, \"Species\": 0, \"Name\": \"setosa\"}, {\"X\": -2.3557540491237727, \"Y\": -0.03728185967738334, \"Species\": 0, \"Name\": \"setosa\"}, {\"X\": -2.506668906925822, \"Y\": -0.14601688049526826, \"Species\": 0, \"Name\": \"setosa\"}, {\"X\": -2.468820073121339, \"Y\": 0.13095148943524965, \"Species\": 0, \"Name\": \"setosa\"}, {\"X\": -2.562319906196016, \"Y\": 0.36771885743419935, \"Species\": 0, \"Name\": \"setosa\"}, {\"X\": -2.639534715384543, \"Y\": 0.3120399802352824, \"Species\": 0, \"Name\": \"setosa\"}, {\"X\": -2.6319893872743463, \"Y\": -0.19696122492431545, \"Species\": 0, \"Name\": \"setosa\"}, {\"X\": -2.5873984766893527, \"Y\": -0.20431849127413415, \"Species\": 0, \"Name\": \"setosa\"}, {\"X\": -2.4099324970021754, \"Y\": 0.41092426422957257, \"Species\": 0, \"Name\": \"setosa\"}, {\"X\": -2.6488623343499125, \"Y\": 0.8133638202969614, \"Species\": 0, \"Name\": \"setosa\"}, {\"X\": -2.598736749100587, \"Y\": 1.0931457594493563, \"Species\": 0, \"Name\": \"setosa\"}, {\"X\": -2.636926878105799, \"Y\": -0.12132234786586385, \"Species\": 0, \"Name\": \"setosa\"}, {\"X\": -2.8662416521186698, \"Y\": 0.06936447158008004, \"Species\": 0, \"Name\": \"setosa\"}, {\"X\": -2.6252380498503727, \"Y\": 0.5993700213794234, \"Species\": 0, \"Name\": \"setosa\"}, {\"X\": -2.800684115448222, \"Y\": 0.26864373779798156, \"Species\": 0, \"Name\": \"setosa\"}, {\"X\": -2.980502043781994, \"Y\": -0.4879583444286163, \"Species\": 0, \"Name\": \"setosa\"}, {\"X\": -2.590006313968096, \"Y\": 0.22904383682701207, \"Species\": 0, \"Name\": \"setosa\"}, {\"X\": -2.770102426027902, \"Y\": 0.2635275337442559, \"Species\": 0, \"Name\": \"setosa\"}, {\"X\": -2.849368705043104, \"Y\": -0.9409605736411973, \"Species\": 0, \"Name\": \"setosa\"}, {\"X\": -2.9974065465949074, \"Y\": -0.34192605747161087, \"Species\": 0, \"Name\": \"setosa\"}, {\"X\": -2.4056144850974857, \"Y\": 0.18887142893025974, \"Species\": 0, \"Name\": \"setosa\"}, {\"X\": -2.2094892377836794, \"Y\": 0.4366631416391872, \"Species\": 0, \"Name\": \"setosa\"}, {\"X\": -2.714451426757708, \"Y\": -0.2502082041852117, \"Species\": 0, \"Name\": \"setosa\"}, {\"X\": -2.53814825899894, \"Y\": 0.503771144461437, \"Species\": 0, \"Name\": \"setosa\"}, {\"X\": -2.8394621676428504, \"Y\": -0.22794556949382855, \"Species\": 0, \"Name\": \"setosa\"}, {\"X\": -2.543085749830393, \"Y\": 0.5794100215198889, \"Species\": 0, \"Name\": \"setosa\"}, {\"X\": -2.7033597823351596, \"Y\": 0.10770608249941105, \"Species\": 0, \"Name\": \"setosa\"}, {\"X\": 1.2848256888583507, \"Y\": 0.685160470467309, \"Species\": 1, \"Name\": \"versicolor\"}, {\"X\": 0.9324885323123177, \"Y\": 0.3183336382626289, \"Species\": 1, \"Name\": \"versicolor\"}, {\"X\": 1.464302321991393, \"Y\": 0.5042628153092044, \"Species\": 1, \"Name\": \"versicolor\"}, {\"X\": 0.18331771995837004, \"Y\": -0.8279590118206325, \"Species\": 1, \"Name\": \"versicolor\"}, {\"X\": 1.0881032577116652, \"Y\": 0.07459067519771638, \"Species\": 1, \"Name\": \"versicolor\"}, {\"X\": 0.6416690842580769, \"Y\": -0.41824687156867907, \"Species\": 1, \"Name\": \"versicolor\"}, {\"X\": 1.095060662632446, \"Y\": 0.2834682700615289, \"Species\": 1, \"Name\": \"versicolor\"}, {\"X\": -0.7491226698296577, \"Y\": -1.004890961181896, \"Species\": 1, \"Name\": \"versicolor\"}, {\"X\": 1.0441318260534347, \"Y\": 0.22836189978839577, \"Species\": 1, \"Name\": \"versicolor\"}, {\"X\": -0.008745404082896533, \"Y\": -0.7230819050048347, \"Species\": 1, \"Name\": \"versicolor\"}, {\"X\": -0.5078408838353263, \"Y\": -1.265971190526394, \"Species\": 1, \"Name\": \"versicolor\"}, {\"X\": 0.5116985574475968, \"Y\": -0.10398123549904062, \"Species\": 1, \"Name\": \"versicolor\"}, {\"X\": 0.2649765081120459, \"Y\": -0.5500364636804748, \"Species\": 1, \"Name\": \"versicolor\"}, {\"X\": 0.9849345104708894, \"Y\": -0.12481785412635751, \"Species\": 1, \"Name\": \"versicolor\"}, {\"X\": -0.17392537168176833, \"Y\": -0.2548542087025896, \"Species\": 1, \"Name\": \"versicolor\"}, {\"X\": 0.9278607809442467, \"Y\": 0.46717949444151075, \"Species\": 1, \"Name\": \"versicolor\"}, {\"X\": 0.6602837616969363, \"Y\": -0.3529696657238509, \"Species\": 1, \"Name\": \"versicolor\"}, {\"X\": 0.23610499331767099, \"Y\": -0.3336107668249156, \"Species\": 1, \"Name\": \"versicolor\"}, {\"X\": 0.9447337280198126, \"Y\": -0.5431455507797663, \"Species\": 1, \"Name\": \"versicolor\"}, {\"X\": 0.045226976298699324, \"Y\": -0.5838343774718645, \"Species\": 1, \"Name\": \"versicolor\"}, {\"X\": 1.1162831773500488, \"Y\": -0.08461685219478837, \"Species\": 1, \"Name\": \"versicolor\"}, {\"X\": 0.35788841799730675, \"Y\": -0.06892503165601395, \"Species\": 1, \"Name\": \"versicolor\"}, {\"X\": 1.298183875358913, \"Y\": -0.32778730833391734, \"Species\": 1, \"Name\": \"versicolor\"}, {\"X\": 0.9217289224470362, \"Y\": -0.18273779362136758, \"Species\": 1, \"Name\": \"versicolor\"}, {\"X\": 0.714853325911411, \"Y\": 0.14905594436978484, \"Species\": 1, \"Name\": \"versicolor\"}, {\"X\": 0.9001743731721666, \"Y\": 0.3285044738343235, \"Species\": 1, \"Name\": \"versicolor\"}, {\"X\": 1.3320244367220877, \"Y\": 0.24444087601634384, \"Species\": 1, \"Name\": \"versicolor\"}, {\"X\": 1.5578021550660697, \"Y\": 0.2674954473102548, \"Species\": 1, \"Name\": \"versicolor\"}, {\"X\": 0.8132906498175407, \"Y\": -0.16335030068761644, \"Species\": 1, \"Name\": \"versicolor\"}, {\"X\": -0.30558377802430947, \"Y\": -0.36826218975458813, \"Species\": 1, \"Name\": \"versicolor\"}, {\"X\": -0.0681264920683641, \"Y\": -0.7051721317994655, \"Species\": 1, \"Name\": \"versicolor\"}, {\"X\": -0.18962247237850238, \"Y\": -0.6802867635281336, \"Species\": 1, \"Name\": \"versicolor\"}, {\"X\": 0.1364287115580144, \"Y\": -0.3140324382492369, \"Species\": 1, \"Name\": \"versicolor\"}, {\"X\": 1.38002643591551, \"Y\": -0.42095428731388207, \"Species\": 1, \"Name\": \"versicolor\"}, {\"X\": 0.5880064433398628, \"Y\": -0.4842874199812189, \"Species\": 1, \"Name\": \"versicolor\"}, {\"X\": 0.8068583125004115, \"Y\": 0.19418231471315048, \"Species\": 1, \"Name\": \"versicolor\"}, {\"X\": 1.220690882444352, \"Y\": 0.40761959361100725, \"Species\": 1, \"Name\": \"versicolor\"}, {\"X\": 0.8150952357665991, \"Y\": -0.37203705990950153, \"Species\": 1, \"Name\": \"versicolor\"}, {\"X\": 0.24595767988669187, \"Y\": -0.2685243966220153, \"Species\": 1, \"Name\": \"versicolor\"}, {\"X\": 0.1664132171454563, \"Y\": -0.681926724863627, \"Species\": 1, \"Name\": \"versicolor\"}, {\"X\": 0.46480028840377857, \"Y\": -0.6707115445117208, \"Species\": 1, \"Name\": \"versicolor\"}, {\"X\": 0.8908151984694487, \"Y\": -0.034464444368269, \"Species\": 1, \"Name\": \"versicolor\"}, {\"X\": 0.23054802355945483, \"Y\": -0.4043858480073253, \"Species\": 1, \"Name\": \"versicolor\"}, {\"X\": -0.704531759244664, \"Y\": -1.0122482275317146, \"Species\": 1, \"Name\": \"versicolor\"}, {\"X\": 0.3569814947010464, \"Y\": -0.504910093337109, \"Species\": 1, \"Name\": \"versicolor\"}, {\"X\": 0.33193447994505776, \"Y\": -0.21265468378117022, \"Species\": 1, \"Name\": \"versicolor\"}, {\"X\": 0.37621565106666977, \"Y\": -0.29321892925141924, \"Species\": 1, \"Name\": \"versicolor\"}, {\"X\": 0.6425760075543372, \"Y\": 0.01773819011241626, \"Species\": 1, \"Name\": \"versicolor\"}, {\"X\": -0.9064698649488363, \"Y\": -0.7560933665990144, \"Species\": 1, \"Name\": \"versicolor\"}, {\"X\": 0.2990008418781427, \"Y\": -0.3488978064503362, \"Species\": 1, \"Name\": \"versicolor\"}, {\"X\": 2.531192727803627, \"Y\": -0.009849109498802232, \"Species\": 2, \"Name\": \"virginica\"}, {\"X\": 1.4152358767039015, \"Y\": -0.5749163475464897, \"Species\": 2, \"Name\": \"virginica\"}, {\"X\": 2.6166760159956888, \"Y\": 0.34390315134173466, \"Species\": 2, \"Name\": \"virginica\"}, {\"X\": 1.9715310530434345, \"Y\": -0.17972790435224553, \"Species\": 2, \"Name\": \"virginica\"}, {\"X\": 2.350005920044639, \"Y\": -0.04026094714253103, \"Species\": 2, \"Name\": \"virginica\"}, {\"X\": 3.397038736053257, \"Y\": 0.5508366730280562, \"Species\": 2, \"Name\": \"virginica\"}, {\"X\": 0.521232243909773, \"Y\": -1.192758727000646, \"Species\": 2, \"Name\": \"virginica\"}, {\"X\": 2.932587068993688, \"Y\": 0.3555000029774968, \"Species\": 2, \"Name\": \"virginica\"}, {\"X\": 2.321228816573377, \"Y\": -0.2438315023106904, \"Species\": 2, \"Name\": \"virginica\"}, {\"X\": 2.916750966786071, \"Y\": 0.7827919488152786, \"Species\": 2, \"Name\": \"virginica\"}, {\"X\": 1.6617741536365305, \"Y\": 0.24222840775506702, \"Species\": 2, \"Name\": \"virginica\"}, {\"X\": 1.80340195296509, \"Y\": -0.21563761733355533, \"Species\": 2, \"Name\": \"virginica\"}, {\"X\": 2.165591796080144, \"Y\": 0.21627558507402495, \"Species\": 2, \"Name\": \"virginica\"}, {\"X\": 1.3461635794584506, \"Y\": -0.7768183473443399, \"Species\": 2, \"Name\": \"virginica\"}, {\"X\": 1.58592822387322, \"Y\": -0.539640714026719, \"Species\": 2, \"Name\": \"virginica\"}, {\"X\": 1.904456374793426, \"Y\": 0.11925069209197262, \"Species\": 2, \"Name\": \"virginica\"}, {\"X\": 1.9496890593990681, \"Y\": 0.04194325966321141, \"Species\": 2, \"Name\": \"virginica\"}, {\"X\": 3.487055364290278, \"Y\": 1.1757393297134295, \"Species\": 2, \"Name\": \"virginica\"}, {\"X\": 3.795645422072883, \"Y\": 0.25732297342048016, \"Species\": 2, \"Name\": \"virginica\"}, {\"X\": 1.3007917126376562, \"Y\": -0.7611496364350635, \"Species\": 2, \"Name\": \"virginica\"}, {\"X\": 2.4278179130660447, \"Y\": 0.3781960126170508, \"Species\": 2, \"Name\": \"virginica\"}, {\"X\": 1.1990011054655596, \"Y\": -0.606091527757931, \"Species\": 2, \"Name\": \"virginica\"}, {\"X\": 3.499920038924537, \"Y\": 0.4606740989118958, \"Species\": 2, \"Name\": \"virginica\"}, {\"X\": 1.3887661316914643, \"Y\": -0.20439932735215086, \"Species\": 2, \"Name\": \"virginica\"}, {\"X\": 2.2754305038722036, \"Y\": 0.3349906058216774, \"Species\": 2, \"Name\": \"virginica\"}, {\"X\": 2.61409047381083, \"Y\": 0.5609013551230779, \"Species\": 2, \"Name\": \"virginica\"}, {\"X\": 1.2585081605114867, \"Y\": -0.17970479472274667, \"Species\": 2, \"Name\": \"virginica\"}, {\"X\": 1.29113205911502, \"Y\": -0.11666865117401161, \"Species\": 2, \"Name\": \"virginica\"}, {\"X\": 2.1236087227738936, \"Y\": -0.2097294766773027, \"Species\": 2, \"Name\": \"virginica\"}, {\"X\": 2.3880030160034664, \"Y\": 0.46463980470873667, \"Species\": 2, \"Name\": \"virginica\"}, {\"X\": 2.8416727781038698, \"Y\": 0.3752691671951038, \"Species\": 2, \"Name\": \"virginica\"}, {\"X\": 3.2306736614320917, \"Y\": 1.3741650867930482, \"Species\": 2, \"Name\": \"virginica\"}, {\"X\": 2.1594376424890487, \"Y\": -0.21727757866904904, \"Species\": 2, \"Name\": \"virginica\"}, {\"X\": 1.4441612423295087, \"Y\": -0.14341341045758074, \"Species\": 2, \"Name\": \"virginica\"}, {\"X\": 1.781294810045111, \"Y\": -0.4999016810781366, \"Species\": 2, \"Name\": \"virginica\"}, {\"X\": 3.0764999316871866, \"Y\": 0.6880856775711766, \"Species\": 2, \"Name\": \"virginica\"}, {\"X\": 2.1442433143020807, \"Y\": 0.14006420108978979, \"Species\": 2, \"Name\": \"virginica\"}, {\"X\": 1.9050981488140746, \"Y\": 0.049300526013030116, \"Species\": 2, \"Name\": \"virginica\"}, {\"X\": 1.1693263393414994, \"Y\": -0.1649902620231098, \"Species\": 2, \"Name\": \"virginica\"}, {\"X\": 2.107611143257241, \"Y\": 0.3722878719607979, \"Species\": 2, \"Name\": \"virginica\"}, {\"X\": 2.314154705235599, \"Y\": 0.18365127916901902, \"Species\": 2, \"Name\": \"virginica\"}, {\"X\": 1.9222678009026, \"Y\": 0.40920346681606246, \"Species\": 2, \"Name\": \"virginica\"}, {\"X\": 1.4152358767039015, \"Y\": -0.5749163475464897, \"Species\": 2, \"Name\": \"virginica\"}, {\"X\": 2.5630133750774746, \"Y\": 0.27786260292919485, \"Species\": 2, \"Name\": \"virginica\"}, {\"X\": 2.418746182732824, \"Y\": 0.30479819785469203, \"Species\": 2, \"Name\": \"virginica\"}, {\"X\": 1.944109794546967, \"Y\": 0.18753230280060534, \"Species\": 2, \"Name\": \"virginica\"}, {\"X\": 1.5271666148145164, \"Y\": -0.3753169825804883, \"Species\": 2, \"Name\": \"virginica\"}, {\"X\": 1.764345717044428, \"Y\": 0.07885885451847582, \"Species\": 2, \"Name\": \"virginica\"}, {\"X\": 1.9009416142184223, \"Y\": 0.11662795851202332, \"Species\": 2, \"Name\": \"virginica\"}, {\"X\": 1.3901888619479128, \"Y\": -0.2826609379905509, \"Species\": 2, \"Name\": \"virginica\"}]}}, {\"mode\": \"vega-lite\"});\n",
       "</script>"
      ],
      "text/plain": [
       "alt.Chart(...)"
      ]
     },
     "execution_count": 77,
     "metadata": {},
     "output_type": "execute_result"
    }
   ],
   "source": [
    "import altair as alt\n",
    "\n",
    "projected_data['Name'] = [ iris['target_names'][i] for i in projected_data['Species'] ]\n",
    "\n",
    "alt.Chart(projected_data).mark_circle(size=60).encode(\n",
    "    x='X',\n",
    "    y='Y',\n",
    "    color = {'field': 'Name',\n",
    "             'scale': {'scheme': 'category10' }\n",
    "            },\n",
    "    tooltip=['Name']\n",
    ").properties(\n",
    "    title = 'Scatter plot of Iris Dataset after PCA',\n",
    "    width = 800,\n",
    "    height = 400\n",
    ").interactive()"
   ]
  },
  {
   "cell_type": "code",
   "execution_count": 88,
   "id": "5a1fb1a1-192d-443d-8443-3055ea49fb77",
   "metadata": {},
   "outputs": [],
   "source": [
    "import yfinance as yf\n",
    "\n",
    "from statsmodels.tsa.arima.model import ARIMA\n",
    "from sklearn.metrics import mean_squared_error, mean_absolute_error"
   ]
  },
  {
   "cell_type": "code",
   "execution_count": 89,
   "id": "e06b18d3-8355-4433-b86d-0189104e24b3",
   "metadata": {},
   "outputs": [
    {
     "name": "stderr",
     "output_type": "stream",
     "text": [
      "[*********************100%%**********************]  1 of 1 completed\n"
     ]
    },
    {
     "data": {
      "text/html": [
       "<div>\n",
       "<style scoped>\n",
       "    .dataframe tbody tr th:only-of-type {\n",
       "        vertical-align: middle;\n",
       "    }\n",
       "\n",
       "    .dataframe tbody tr th {\n",
       "        vertical-align: top;\n",
       "    }\n",
       "\n",
       "    .dataframe thead th {\n",
       "        text-align: right;\n",
       "    }\n",
       "</style>\n",
       "<table border=\"1\" class=\"dataframe\">\n",
       "  <thead>\n",
       "    <tr style=\"text-align: right;\">\n",
       "      <th></th>\n",
       "      <th>Open</th>\n",
       "      <th>High</th>\n",
       "      <th>Low</th>\n",
       "      <th>Close</th>\n",
       "      <th>Adj Close</th>\n",
       "      <th>Volume</th>\n",
       "    </tr>\n",
       "    <tr>\n",
       "      <th>Date</th>\n",
       "      <th></th>\n",
       "      <th></th>\n",
       "      <th></th>\n",
       "      <th></th>\n",
       "      <th></th>\n",
       "      <th></th>\n",
       "    </tr>\n",
       "  </thead>\n",
       "  <tbody>\n",
       "    <tr>\n",
       "      <th>2002-05-23</th>\n",
       "      <td>1.156429</td>\n",
       "      <td>1.242857</td>\n",
       "      <td>1.145714</td>\n",
       "      <td>1.196429</td>\n",
       "      <td>1.196429</td>\n",
       "      <td>104790000</td>\n",
       "    </tr>\n",
       "    <tr>\n",
       "      <th>2002-05-24</th>\n",
       "      <td>1.214286</td>\n",
       "      <td>1.225000</td>\n",
       "      <td>1.197143</td>\n",
       "      <td>1.210000</td>\n",
       "      <td>1.210000</td>\n",
       "      <td>11104800</td>\n",
       "    </tr>\n",
       "    <tr>\n",
       "      <th>2002-05-28</th>\n",
       "      <td>1.213571</td>\n",
       "      <td>1.232143</td>\n",
       "      <td>1.157143</td>\n",
       "      <td>1.157143</td>\n",
       "      <td>1.157143</td>\n",
       "      <td>6609400</td>\n",
       "    </tr>\n",
       "    <tr>\n",
       "      <th>2002-05-29</th>\n",
       "      <td>1.164286</td>\n",
       "      <td>1.164286</td>\n",
       "      <td>1.085714</td>\n",
       "      <td>1.103571</td>\n",
       "      <td>1.103571</td>\n",
       "      <td>6757800</td>\n",
       "    </tr>\n",
       "    <tr>\n",
       "      <th>2002-05-30</th>\n",
       "      <td>1.107857</td>\n",
       "      <td>1.107857</td>\n",
       "      <td>1.071429</td>\n",
       "      <td>1.071429</td>\n",
       "      <td>1.071429</td>\n",
       "      <td>10154200</td>\n",
       "    </tr>\n",
       "    <tr>\n",
       "      <th>...</th>\n",
       "      <td>...</td>\n",
       "      <td>...</td>\n",
       "      <td>...</td>\n",
       "      <td>...</td>\n",
       "      <td>...</td>\n",
       "      <td>...</td>\n",
       "    </tr>\n",
       "    <tr>\n",
       "      <th>2024-02-12</th>\n",
       "      <td>560.359985</td>\n",
       "      <td>568.440002</td>\n",
       "      <td>557.000000</td>\n",
       "      <td>557.849976</td>\n",
       "      <td>557.849976</td>\n",
       "      <td>3608500</td>\n",
       "    </tr>\n",
       "    <tr>\n",
       "      <th>2024-02-13</th>\n",
       "      <td>550.799988</td>\n",
       "      <td>559.200012</td>\n",
       "      <td>549.000000</td>\n",
       "      <td>554.520020</td>\n",
       "      <td>554.520020</td>\n",
       "      <td>3511500</td>\n",
       "    </tr>\n",
       "    <tr>\n",
       "      <th>2024-02-14</th>\n",
       "      <td>567.260010</td>\n",
       "      <td>581.250000</td>\n",
       "      <td>564.340027</td>\n",
       "      <td>579.330017</td>\n",
       "      <td>579.330017</td>\n",
       "      <td>5634200</td>\n",
       "    </tr>\n",
       "    <tr>\n",
       "      <th>2024-02-15</th>\n",
       "      <td>581.909973</td>\n",
       "      <td>593.770020</td>\n",
       "      <td>580.320007</td>\n",
       "      <td>593.460022</td>\n",
       "      <td>593.460022</td>\n",
       "      <td>5220900</td>\n",
       "    </tr>\n",
       "    <tr>\n",
       "      <th>2024-02-16</th>\n",
       "      <td>596.950012</td>\n",
       "      <td>597.000000</td>\n",
       "      <td>577.460022</td>\n",
       "      <td>583.950012</td>\n",
       "      <td>583.950012</td>\n",
       "      <td>4323600</td>\n",
       "    </tr>\n",
       "  </tbody>\n",
       "</table>\n",
       "<p>5472 rows × 6 columns</p>\n",
       "</div>"
      ],
      "text/plain": [
       "                  Open        High         Low       Close   Adj Close  \\\n",
       "Date                                                                     \n",
       "2002-05-23    1.156429    1.242857    1.145714    1.196429    1.196429   \n",
       "2002-05-24    1.214286    1.225000    1.197143    1.210000    1.210000   \n",
       "2002-05-28    1.213571    1.232143    1.157143    1.157143    1.157143   \n",
       "2002-05-29    1.164286    1.164286    1.085714    1.103571    1.103571   \n",
       "2002-05-30    1.107857    1.107857    1.071429    1.071429    1.071429   \n",
       "...                ...         ...         ...         ...         ...   \n",
       "2024-02-12  560.359985  568.440002  557.000000  557.849976  557.849976   \n",
       "2024-02-13  550.799988  559.200012  549.000000  554.520020  554.520020   \n",
       "2024-02-14  567.260010  581.250000  564.340027  579.330017  579.330017   \n",
       "2024-02-15  581.909973  593.770020  580.320007  593.460022  593.460022   \n",
       "2024-02-16  596.950012  597.000000  577.460022  583.950012  583.950012   \n",
       "\n",
       "               Volume  \n",
       "Date                   \n",
       "2002-05-23  104790000  \n",
       "2002-05-24   11104800  \n",
       "2002-05-28    6609400  \n",
       "2002-05-29    6757800  \n",
       "2002-05-30   10154200  \n",
       "...               ...  \n",
       "2024-02-12    3608500  \n",
       "2024-02-13    3511500  \n",
       "2024-02-14    5634200  \n",
       "2024-02-15    5220900  \n",
       "2024-02-16    4323600  \n",
       "\n",
       "[5472 rows x 6 columns]"
      ]
     },
     "execution_count": 89,
     "metadata": {},
     "output_type": "execute_result"
    }
   ],
   "source": [
    "NETFLIX = yf.download('NFLX')\n",
    "NETFLIX"
   ]
  },
  {
   "cell_type": "code",
   "execution_count": 90,
   "id": "7de96bb5-fd7e-45ab-bd92-3596ff060ff7",
   "metadata": {},
   "outputs": [
    {
     "data": {
      "text/plain": [
       "Date\n",
       "2002-05-23      1.196429\n",
       "2002-05-24      1.210000\n",
       "2002-05-28      1.157143\n",
       "2002-05-29      1.103571\n",
       "2002-05-30      1.071429\n",
       "                 ...    \n",
       "2024-02-12    557.849976\n",
       "2024-02-13    554.520020\n",
       "2024-02-14    579.330017\n",
       "2024-02-15    593.460022\n",
       "2024-02-16    583.950012\n",
       "Freq: D, Name: Close, Length: 5472, dtype: float64"
      ]
     },
     "execution_count": 90,
     "metadata": {},
     "output_type": "execute_result"
    }
   ],
   "source": [
    "N = len(NETFLIX)\n",
    "M = int(N*0.95)\n",
    "ys = NETFLIX['Close']\n",
    "ys.index = pd.to_datetime(NETFLIX.index).to_period('D')\n",
    "ys"
   ]
  },
  {
   "cell_type": "code",
   "execution_count": 91,
   "id": "a0cc81bc-85b3-43cc-8bad-f46e50b2b3db",
   "metadata": {},
   "outputs": [
    {
     "data": {
      "text/plain": [
       "2016-08-15    332.725587\n",
       "Freq: D, dtype: float64"
      ]
     },
     "execution_count": 91,
     "metadata": {},
     "output_type": "execute_result"
    }
   ],
   "source": [
    "model = ARIMA(ys[:M], order=(1,1,0))\n",
    "fit = model.fit()\n",
    "fit.forecast()"
   ]
  },
  {
   "cell_type": "code",
   "execution_count": 92,
   "id": "f5485c9c-53a5-46c7-b7ae-b3636659d3a7",
   "metadata": {
    "scrolled": true
   },
   "outputs": [],
   "source": [
    "predictions = []\n",
    "for i in range(M-1,N-1):\n",
    "    model = ARIMA(ys[:i], order=(1,1,0))\n",
    "    fit = model.fit()\n",
    "    yhat = fit.forecast().iloc[0]\n",
    "    predictions.append(yhat)"
   ]
  },
  {
   "cell_type": "code",
   "execution_count": 93,
   "id": "34db516b-29cc-49ec-afdf-fc34873c16e3",
   "metadata": {},
   "outputs": [
    {
     "data": {
      "text/plain": [
       "<Axes: xlabel='Date'>"
      ]
     },
     "execution_count": 93,
     "metadata": {},
     "output_type": "execute_result"
    },
    {
     "data": {
      "image/png": "[encoded data removed]",
      "text/plain": [
       "<Figure size 1800x300 with 1 Axes>"
      ]
     },
     "metadata": {},
     "output_type": "display_data"
    }
   ],
   "source": [
    "res = pd.DataFrame(ys[M:])\n",
    "res['Prediction']= predictions\n",
    "res.plot(figsize=(18,3))"
   ]
  },
  {
   "cell_type": "code",
   "execution_count": 94,
   "id": "7b2211e7-47b0-445a-b70e-22f23aa2cf65",
   "metadata": {},
   "outputs": [
    {
     "data": {
      "text/html": [
       "<div>\n",
       "<style scoped>\n",
       "    .dataframe tbody tr th:only-of-type {\n",
       "        vertical-align: middle;\n",
       "    }\n",
       "\n",
       "    .dataframe tbody tr th {\n",
       "        vertical-align: top;\n",
       "    }\n",
       "\n",
       "    .dataframe thead th {\n",
       "        text-align: right;\n",
       "    }\n",
       "</style>\n",
       "<table border=\"1\" class=\"dataframe\">\n",
       "  <thead>\n",
       "    <tr style=\"text-align: right;\">\n",
       "      <th></th>\n",
       "      <th>Close</th>\n",
       "      <th>Prediction</th>\n",
       "    </tr>\n",
       "    <tr>\n",
       "      <th>Date</th>\n",
       "      <th></th>\n",
       "      <th></th>\n",
       "    </tr>\n",
       "  </thead>\n",
       "  <tbody>\n",
       "    <tr>\n",
       "      <th>2023-01-17</th>\n",
       "      <td>326.220001</td>\n",
       "      <td>330.029127</td>\n",
       "    </tr>\n",
       "    <tr>\n",
       "      <th>2023-01-18</th>\n",
       "      <td>326.329987</td>\n",
       "      <td>332.725587</td>\n",
       "    </tr>\n",
       "    <tr>\n",
       "      <th>2023-01-19</th>\n",
       "      <td>315.779999</td>\n",
       "      <td>326.452364</td>\n",
       "    </tr>\n",
       "    <tr>\n",
       "      <th>2023-01-20</th>\n",
       "      <td>342.500000</td>\n",
       "      <td>326.326115</td>\n",
       "    </tr>\n",
       "    <tr>\n",
       "      <th>2023-01-23</th>\n",
       "      <td>357.420013</td>\n",
       "      <td>316.151449</td>\n",
       "    </tr>\n",
       "    <tr>\n",
       "      <th>...</th>\n",
       "      <td>...</td>\n",
       "      <td>...</td>\n",
       "    </tr>\n",
       "    <tr>\n",
       "      <th>2024-02-12</th>\n",
       "      <td>557.849976</td>\n",
       "      <td>558.544666</td>\n",
       "    </tr>\n",
       "    <tr>\n",
       "      <th>2024-02-13</th>\n",
       "      <td>554.520020</td>\n",
       "      <td>561.266941</td>\n",
       "    </tr>\n",
       "    <tr>\n",
       "      <th>2024-02-14</th>\n",
       "      <td>579.330017</td>\n",
       "      <td>557.916153</td>\n",
       "    </tr>\n",
       "    <tr>\n",
       "      <th>2024-02-15</th>\n",
       "      <td>593.460022</td>\n",
       "      <td>554.583317</td>\n",
       "    </tr>\n",
       "    <tr>\n",
       "      <th>2024-02-16</th>\n",
       "      <td>583.950012</td>\n",
       "      <td>578.847575</td>\n",
       "    </tr>\n",
       "  </tbody>\n",
       "</table>\n",
       "<p>274 rows × 2 columns</p>\n",
       "</div>"
      ],
      "text/plain": [
       "                 Close  Prediction\n",
       "Date                              \n",
       "2023-01-17  326.220001  330.029127\n",
       "2023-01-18  326.329987  332.725587\n",
       "2023-01-19  315.779999  326.452364\n",
       "2023-01-20  342.500000  326.326115\n",
       "2023-01-23  357.420013  316.151449\n",
       "...                ...         ...\n",
       "2024-02-12  557.849976  558.544666\n",
       "2024-02-13  554.520020  561.266941\n",
       "2024-02-14  579.330017  557.916153\n",
       "2024-02-15  593.460022  554.583317\n",
       "2024-02-16  583.950012  578.847575\n",
       "\n",
       "[274 rows x 2 columns]"
      ]
     },
     "execution_count": 94,
     "metadata": {},
     "output_type": "execute_result"
    }
   ],
   "source": [
    "res"
   ]
  },
  {
   "cell_type": "code",
   "execution_count": 95,
   "id": "064e0721-3b71-4043-a508-cae90b9618fa",
   "metadata": {},
   "outputs": [
    {
     "data": {
      "text/html": [
       "<div>\n",
       "<style scoped>\n",
       "    .dataframe tbody tr th:only-of-type {\n",
       "        vertical-align: middle;\n",
       "    }\n",
       "\n",
       "    .dataframe tbody tr th {\n",
       "        vertical-align: top;\n",
       "    }\n",
       "\n",
       "    .dataframe thead th {\n",
       "        text-align: right;\n",
       "    }\n",
       "</style>\n",
       "<table border=\"1\" class=\"dataframe\">\n",
       "  <thead>\n",
       "    <tr style=\"text-align: right;\">\n",
       "      <th></th>\n",
       "      <th>Date</th>\n",
       "      <th>Value</th>\n",
       "      <th>type</th>\n",
       "    </tr>\n",
       "    <tr>\n",
       "      <th>Date</th>\n",
       "      <th></th>\n",
       "      <th></th>\n",
       "      <th></th>\n",
       "    </tr>\n",
       "  </thead>\n",
       "  <tbody>\n",
       "    <tr>\n",
       "      <th>2023-01-17</th>\n",
       "      <td>2023-01-17</td>\n",
       "      <td>326.220001</td>\n",
       "      <td>Close</td>\n",
       "    </tr>\n",
       "    <tr>\n",
       "      <th>2023-01-18</th>\n",
       "      <td>2023-01-18</td>\n",
       "      <td>326.329987</td>\n",
       "      <td>Close</td>\n",
       "    </tr>\n",
       "    <tr>\n",
       "      <th>2023-01-19</th>\n",
       "      <td>2023-01-19</td>\n",
       "      <td>315.779999</td>\n",
       "      <td>Close</td>\n",
       "    </tr>\n",
       "    <tr>\n",
       "      <th>2023-01-20</th>\n",
       "      <td>2023-01-20</td>\n",
       "      <td>342.500000</td>\n",
       "      <td>Close</td>\n",
       "    </tr>\n",
       "    <tr>\n",
       "      <th>2023-01-23</th>\n",
       "      <td>2023-01-23</td>\n",
       "      <td>357.420013</td>\n",
       "      <td>Close</td>\n",
       "    </tr>\n",
       "    <tr>\n",
       "      <th>...</th>\n",
       "      <td>...</td>\n",
       "      <td>...</td>\n",
       "      <td>...</td>\n",
       "    </tr>\n",
       "    <tr>\n",
       "      <th>2024-02-12</th>\n",
       "      <td>2024-02-12</td>\n",
       "      <td>558.544666</td>\n",
       "      <td>Prediction</td>\n",
       "    </tr>\n",
       "    <tr>\n",
       "      <th>2024-02-13</th>\n",
       "      <td>2024-02-13</td>\n",
       "      <td>561.266941</td>\n",
       "      <td>Prediction</td>\n",
       "    </tr>\n",
       "    <tr>\n",
       "      <th>2024-02-14</th>\n",
       "      <td>2024-02-14</td>\n",
       "      <td>557.916153</td>\n",
       "      <td>Prediction</td>\n",
       "    </tr>\n",
       "    <tr>\n",
       "      <th>2024-02-15</th>\n",
       "      <td>2024-02-15</td>\n",
       "      <td>554.583317</td>\n",
       "      <td>Prediction</td>\n",
       "    </tr>\n",
       "    <tr>\n",
       "      <th>2024-02-16</th>\n",
       "      <td>2024-02-16</td>\n",
       "      <td>578.847575</td>\n",
       "      <td>Prediction</td>\n",
       "    </tr>\n",
       "  </tbody>\n",
       "</table>\n",
       "<p>548 rows × 3 columns</p>\n",
       "</div>"
      ],
      "text/plain": [
       "                  Date       Value        type\n",
       "Date                                          \n",
       "2023-01-17  2023-01-17  326.220001       Close\n",
       "2023-01-18  2023-01-18  326.329987       Close\n",
       "2023-01-19  2023-01-19  315.779999       Close\n",
       "2023-01-20  2023-01-20  342.500000       Close\n",
       "2023-01-23  2023-01-23  357.420013       Close\n",
       "...                ...         ...         ...\n",
       "2024-02-12  2024-02-12  558.544666  Prediction\n",
       "2024-02-13  2024-02-13  561.266941  Prediction\n",
       "2024-02-14  2024-02-14  557.916153  Prediction\n",
       "2024-02-15  2024-02-15  554.583317  Prediction\n",
       "2024-02-16  2024-02-16  578.847575  Prediction\n",
       "\n",
       "[548 rows x 3 columns]"
      ]
     },
     "execution_count": 95,
     "metadata": {},
     "output_type": "execute_result"
    }
   ],
   "source": [
    "res['date'] = res.index.astype('string')\n",
    "A = res[['date','Close']]; A.columns = ['Date','Value']\n",
    "B = res[['date','Prediction']]; B.columns = ['Date','Value']\n",
    "tmp = pd.concat([A,B])\n",
    "tmp['type'] = np.array(['Close' for i in range(N-M)] + ['Prediction' for i in range(N-M)])\n",
    "tmp"
   ]
  },
  {
   "cell_type": "code",
   "execution_count": 96,
   "id": "e6a73078-07f0-48f6-be54-f602506aff81",
   "metadata": {},
   "outputs": [
    {
     "data": {
      "text/html": [
       "\n",
       "<style>\n",
       "  #altair-viz-8544b56b1dca479e82c0b4191bfcf3ac.vega-embed {\n",
       "    width: 100%;\n",
       "    display: flex;\n",
       "  }\n",
       "\n",
       "  #altair-viz-8544b56b1dca479e82c0b4191bfcf3ac.vega-embed details,\n",
       "  #altair-viz-8544b56b1dca479e82c0b4191bfcf3ac.vega-embed details summary {\n",
       "    position: relative;\n",
       "  }\n",
       "</style>\n",
       "<div id=\"altair-viz-8544b56b1dca479e82c0b4191bfcf3ac\"></div>\n",
       "<script type=\"text/javascript\">\n",
       "  var VEGA_DEBUG = (typeof VEGA_DEBUG == \"undefined\") ? {} : VEGA_DEBUG;\n",
       "  (function(spec, embedOpt){\n",
       "    let outputDiv = document.currentScript.previousElementSibling;\n",
       "    if (outputDiv.id !== \"altair-viz-8544b56b1dca479e82c0b4191bfcf3ac\") {\n",
       "      outputDiv = document.getElementById(\"altair-viz-8544b56b1dca479e82c0b4191bfcf3ac\");\n",
       "    }\n",
       "    const paths = {\n",
       "      \"vega\": \"https://cdn.jsdelivr.net/npm/vega@5?noext\",\n",
       "      \"vega-lib\": \"https://cdn.jsdelivr.net/npm/vega-lib?noext\",\n",
       "      \"vega-lite\": \"https://cdn.jsdelivr.net/npm/vega-lite@5.16.3?noext\",\n",
       "      \"vega-embed\": \"https://cdn.jsdelivr.net/npm/vega-embed@6?noext\",\n",
       "    };\n",
       "\n",
       "    function maybeLoadScript(lib, version) {\n",
       "      var key = `${lib.replace(\"-\", \"\")}_version`;\n",
       "      return (VEGA_DEBUG[key] == version) ?\n",
       "        Promise.resolve(paths[lib]) :\n",
       "        new Promise(function(resolve, reject) {\n",
       "          var s = document.createElement('script');\n",
       "          document.getElementsByTagName(\"head\")[0].appendChild(s);\n",
       "          s.async = true;\n",
       "          s.onload = () => {\n",
       "            VEGA_DEBUG[key] = version;\n",
       "            return resolve(paths[lib]);\n",
       "          };\n",
       "          s.onerror = () => reject(`Error loading script: ${paths[lib]}`);\n",
       "          s.src = paths[lib];\n",
       "        });\n",
       "    }\n",
       "\n",
       "    function showError(err) {\n",
       "      outputDiv.innerHTML = `<div class=\"error\" style=\"color:red;\">${err}</div>`;\n",
       "      throw err;\n",
       "    }\n",
       "\n",
       "    function displayChart(vegaEmbed) {\n",
       "      vegaEmbed(outputDiv, spec, embedOpt)\n",
       "        .catch(err => showError(`Javascript Error: ${err.message}<br>This usually means there's a typo in your chart specification. See the javascript console for the full traceback.`));\n",
       "    }\n",
       "\n",
       "    if(typeof define === \"function\" && define.amd) {\n",
       "      requirejs.config({paths});\n",
       "      require([\"vega-embed\"], displayChart, err => showError(`Error loading script: ${err.message}`));\n",
       "    } else {\n",
       "      maybeLoadScript(\"vega\", \"5\")\n",
       "        .then(() => maybeLoadScript(\"vega-lite\", \"5.16.3\"))\n",
       "        .then(() => maybeLoadScript(\"vega-embed\", \"6\"))\n",
       "        .catch(showError)\n",
       "        .then(() => displayChart(vegaEmbed));\n",
       "    }\n",
       "  })({\"config\": {\"view\": {\"continuousWidth\": 300, \"continuousHeight\": 300}}, \"data\": {\"name\": \"data-3d0680e94a6d799e74d2b477e6b03b6b\"}, \"mark\": {\"type\": \"line\"}, \"encoding\": {\"color\": {\"field\": \"type\", \"type\": \"nominal\"}, \"x\": {\"field\": \"Date\", \"type\": \"temporal\"}, \"y\": {\"field\": \"Value\", \"type\": \"quantitative\"}}, \"height\": 400, \"params\": [{\"name\": \"param_2\", \"select\": {\"type\": \"interval\", \"encodings\": [\"x\", \"y\"]}, \"bind\": \"scales\"}], \"title\": \"Stock prices for Netflix\", \"width\": 1200, \"$schema\": \"https://vega.github.io/schema/vega-lite/v5.16.3.json\", \"datasets\": {\"data-3d0680e94a6d799e74d2b477e6b03b6b\": [{\"Date\": \"2023-01-17\", \"Value\": 326.2200012207031, \"type\": \"Close\"}, {\"Date\": \"2023-01-18\", \"Value\": 326.3299865722656, \"type\": \"Close\"}, {\"Date\": \"2023-01-19\", \"Value\": 315.7799987792969, \"type\": \"Close\"}, {\"Date\": \"2023-01-20\", \"Value\": 342.5, \"type\": \"Close\"}, {\"Date\": \"2023-01-23\", \"Value\": 357.4200134277344, \"type\": \"Close\"}, {\"Date\": \"2023-01-24\", \"Value\": 363.8299865722656, \"type\": \"Close\"}, {\"Date\": \"2023-01-25\", \"Value\": 367.9599914550781, \"type\": \"Close\"}, {\"Date\": \"2023-01-26\", \"Value\": 364.8699951171875, \"type\": \"Close\"}, {\"Date\": \"2023-01-27\", \"Value\": 360.7699890136719, \"type\": \"Close\"}, {\"Date\": \"2023-01-30\", \"Value\": 353.1099853515625, \"type\": \"Close\"}, {\"Date\": \"2023-01-31\", \"Value\": 353.8599853515625, \"type\": \"Close\"}, {\"Date\": \"2023-02-01\", \"Value\": 361.989990234375, \"type\": \"Close\"}, {\"Date\": \"2023-02-02\", \"Value\": 366.8900146484375, \"type\": \"Close\"}, {\"Date\": \"2023-02-03\", \"Value\": 365.8999938964844, \"type\": \"Close\"}, {\"Date\": \"2023-02-06\", \"Value\": 361.4800109863281, \"type\": \"Close\"}, {\"Date\": \"2023-02-07\", \"Value\": 362.95001220703125, \"type\": \"Close\"}, {\"Date\": \"2023-02-08\", \"Value\": 366.8299865722656, \"type\": \"Close\"}, {\"Date\": \"2023-02-09\", \"Value\": 362.5, \"type\": \"Close\"}, {\"Date\": \"2023-02-10\", \"Value\": 347.3599853515625, \"type\": \"Close\"}, {\"Date\": \"2023-02-13\", \"Value\": 358.57000732421875, \"type\": \"Close\"}, {\"Date\": \"2023-02-14\", \"Value\": 359.9599914550781, \"type\": \"Close\"}, {\"Date\": \"2023-02-15\", \"Value\": 361.4200134277344, \"type\": \"Close\"}, {\"Date\": \"2023-02-16\", \"Value\": 350.7099914550781, \"type\": \"Close\"}, {\"Date\": \"2023-02-17\", \"Value\": 347.9599914550781, \"type\": \"Close\"}, {\"Date\": \"2023-02-21\", \"Value\": 337.5, \"type\": \"Close\"}, {\"Date\": \"2023-02-22\", \"Value\": 334.8800048828125, \"type\": \"Close\"}, {\"Date\": \"2023-02-23\", \"Value\": 323.6499938964844, \"type\": \"Close\"}, {\"Date\": \"2023-02-24\", \"Value\": 317.1499938964844, \"type\": \"Close\"}, {\"Date\": \"2023-02-27\", \"Value\": 323.0299987792969, \"type\": \"Close\"}, {\"Date\": \"2023-02-28\", \"Value\": 322.1300048828125, \"type\": \"Close\"}, {\"Date\": \"2023-03-01\", \"Value\": 313.4800109863281, \"type\": \"Close\"}, {\"Date\": \"2023-03-02\", \"Value\": 311.8800048828125, \"type\": \"Close\"}, {\"Date\": \"2023-03-03\", \"Value\": 315.17999267578125, \"type\": \"Close\"}, {\"Date\": \"2023-03-06\", \"Value\": 312.0299987792969, \"type\": \"Close\"}, {\"Date\": \"2023-03-07\", \"Value\": 308.4700012207031, \"type\": \"Close\"}, {\"Date\": \"2023-03-08\", \"Value\": 311.7900085449219, \"type\": \"Close\"}, {\"Date\": \"2023-03-09\", \"Value\": 297.7799987792969, \"type\": \"Close\"}, {\"Date\": \"2023-03-10\", \"Value\": 292.760009765625, \"type\": \"Close\"}, {\"Date\": \"2023-03-13\", \"Value\": 293.510009765625, \"type\": \"Close\"}, {\"Date\": \"2023-03-14\", \"Value\": 294.94000244140625, \"type\": \"Close\"}, {\"Date\": \"2023-03-15\", \"Value\": 303.7900085449219, \"type\": \"Close\"}, {\"Date\": \"2023-03-16\", \"Value\": 310.05999755859375, \"type\": \"Close\"}, {\"Date\": \"2023-03-17\", \"Value\": 303.5, \"type\": \"Close\"}, {\"Date\": \"2023-03-20\", \"Value\": 305.1300048828125, \"type\": \"Close\"}, {\"Date\": \"2023-03-21\", \"Value\": 305.7900085449219, \"type\": \"Close\"}, {\"Date\": \"2023-03-22\", \"Value\": 293.8999938964844, \"type\": \"Close\"}, {\"Date\": \"2023-03-23\", \"Value\": 320.3699951171875, \"type\": \"Close\"}, {\"Date\": \"2023-03-24\", \"Value\": 328.3900146484375, \"type\": \"Close\"}, {\"Date\": \"2023-03-27\", \"Value\": 327.6600036621094, \"type\": \"Close\"}, {\"Date\": \"2023-03-28\", \"Value\": 323.5199890136719, \"type\": \"Close\"}, {\"Date\": \"2023-03-29\", \"Value\": 332.0299987792969, \"type\": \"Close\"}, {\"Date\": \"2023-03-30\", \"Value\": 338.42999267578125, \"type\": \"Close\"}, {\"Date\": \"2023-03-31\", \"Value\": 345.4800109863281, \"type\": \"Close\"}, {\"Date\": \"2023-04-03\", \"Value\": 348.2799987792969, \"type\": \"Close\"}, {\"Date\": \"2023-04-04\", \"Value\": 346.75, \"type\": \"Close\"}, {\"Date\": \"2023-04-05\", \"Value\": 342.3500061035156, \"type\": \"Close\"}, {\"Date\": \"2023-04-06\", \"Value\": 339.3299865722656, \"type\": \"Close\"}, {\"Date\": \"2023-04-10\", \"Value\": 338.989990234375, \"type\": \"Close\"}, {\"Date\": \"2023-04-11\", \"Value\": 338.2099914550781, \"type\": \"Close\"}, {\"Date\": \"2023-04-12\", \"Value\": 331.0299987792969, \"type\": \"Close\"}, {\"Date\": \"2023-04-13\", \"Value\": 346.19000244140625, \"type\": \"Close\"}, {\"Date\": \"2023-04-14\", \"Value\": 338.6300048828125, \"type\": \"Close\"}, {\"Date\": \"2023-04-17\", \"Value\": 332.7200012207031, \"type\": \"Close\"}, {\"Date\": \"2023-04-18\", \"Value\": 333.70001220703125, \"type\": \"Close\"}, {\"Date\": \"2023-04-19\", \"Value\": 323.1199951171875, \"type\": \"Close\"}, {\"Date\": \"2023-04-20\", \"Value\": 325.3500061035156, \"type\": \"Close\"}, {\"Date\": \"2023-04-21\", \"Value\": 327.9800109863281, \"type\": \"Close\"}, {\"Date\": \"2023-04-24\", \"Value\": 329.0199890136719, \"type\": \"Close\"}, {\"Date\": \"2023-04-25\", \"Value\": 322.54998779296875, \"type\": \"Close\"}, {\"Date\": \"2023-04-26\", \"Value\": 321.1499938964844, \"type\": \"Close\"}, {\"Date\": \"2023-04-27\", \"Value\": 325.8500061035156, \"type\": \"Close\"}, {\"Date\": \"2023-04-28\", \"Value\": 329.92999267578125, \"type\": \"Close\"}, {\"Date\": \"2023-05-01\", \"Value\": 324.1199951171875, \"type\": \"Close\"}, {\"Date\": \"2023-05-02\", \"Value\": 317.54998779296875, \"type\": \"Close\"}, {\"Date\": \"2023-05-03\", \"Value\": 319.29998779296875, \"type\": \"Close\"}, {\"Date\": \"2023-05-04\", \"Value\": 320.7799987792969, \"type\": \"Close\"}, {\"Date\": \"2023-05-05\", \"Value\": 322.760009765625, \"type\": \"Close\"}, {\"Date\": \"2023-05-08\", \"Value\": 331.2099914550781, \"type\": \"Close\"}, {\"Date\": \"2023-05-09\", \"Value\": 332.1400146484375, \"type\": \"Close\"}, {\"Date\": \"2023-05-10\", \"Value\": 335.4200134277344, \"type\": \"Close\"}, {\"Date\": \"2023-05-11\", \"Value\": 344.760009765625, \"type\": \"Close\"}, {\"Date\": \"2023-05-12\", \"Value\": 339.8900146484375, \"type\": \"Close\"}, {\"Date\": \"2023-05-15\", \"Value\": 335.8900146484375, \"type\": \"Close\"}, {\"Date\": \"2023-05-16\", \"Value\": 333.75, \"type\": \"Close\"}, {\"Date\": \"2023-05-17\", \"Value\": 339.9599914550781, \"type\": \"Close\"}, {\"Date\": \"2023-05-18\", \"Value\": 371.2900085449219, \"type\": \"Close\"}, {\"Date\": \"2023-05-19\", \"Value\": 365.3599853515625, \"type\": \"Close\"}, {\"Date\": \"2023-05-22\", \"Value\": 363.010009765625, \"type\": \"Close\"}, {\"Date\": \"2023-05-23\", \"Value\": 355.989990234375, \"type\": \"Close\"}, {\"Date\": \"2023-05-24\", \"Value\": 364.8500061035156, \"type\": \"Close\"}, {\"Date\": \"2023-05-25\", \"Value\": 359.0, \"type\": \"Close\"}, {\"Date\": \"2023-05-26\", \"Value\": 378.8800048828125, \"type\": \"Close\"}, {\"Date\": \"2023-05-30\", \"Value\": 392.9800109863281, \"type\": \"Close\"}, {\"Date\": \"2023-05-31\", \"Value\": 395.2300109863281, \"type\": \"Close\"}, {\"Date\": \"2023-06-01\", \"Value\": 403.1300048828125, \"type\": \"Close\"}, {\"Date\": \"2023-06-02\", \"Value\": 400.4700012207031, \"type\": \"Close\"}, {\"Date\": \"2023-06-05\", \"Value\": 403.5400085449219, \"type\": \"Close\"}, {\"Date\": \"2023-06-06\", \"Value\": 399.2900085449219, \"type\": \"Close\"}, {\"Date\": \"2023-06-07\", \"Value\": 399.7699890136719, \"type\": \"Close\"}, {\"Date\": \"2023-06-08\", \"Value\": 409.3699951171875, \"type\": \"Close\"}, {\"Date\": \"2023-06-09\", \"Value\": 420.0199890136719, \"type\": \"Close\"}, {\"Date\": \"2023-06-12\", \"Value\": 423.9700012207031, \"type\": \"Close\"}, {\"Date\": \"2023-06-13\", \"Value\": 435.7300109863281, \"type\": \"Close\"}, {\"Date\": \"2023-06-14\", \"Value\": 440.8599853515625, \"type\": \"Close\"}, {\"Date\": \"2023-06-15\", \"Value\": 445.2699890136719, \"type\": \"Close\"}, {\"Date\": \"2023-06-16\", \"Value\": 431.9599914550781, \"type\": \"Close\"}, {\"Date\": \"2023-06-20\", \"Value\": 434.70001220703125, \"type\": \"Close\"}, {\"Date\": \"2023-06-21\", \"Value\": 424.45001220703125, \"type\": \"Close\"}, {\"Date\": \"2023-06-22\", \"Value\": 422.4800109863281, \"type\": \"Close\"}, {\"Date\": \"2023-06-23\", \"Value\": 424.0199890136719, \"type\": \"Close\"}, {\"Date\": \"2023-06-26\", \"Value\": 415.94000244140625, \"type\": \"Close\"}, {\"Date\": \"2023-06-27\", \"Value\": 417.0799865722656, \"type\": \"Close\"}, {\"Date\": \"2023-06-28\", \"Value\": 429.8399963378906, \"type\": \"Close\"}, {\"Date\": \"2023-06-29\", \"Value\": 428.239990234375, \"type\": \"Close\"}, {\"Date\": \"2023-06-30\", \"Value\": 440.489990234375, \"type\": \"Close\"}, {\"Date\": \"2023-07-03\", \"Value\": 441.44000244140625, \"type\": \"Close\"}, {\"Date\": \"2023-07-05\", \"Value\": 445.8999938964844, \"type\": \"Close\"}, {\"Date\": \"2023-07-06\", \"Value\": 438.8399963378906, \"type\": \"Close\"}, {\"Date\": \"2023-07-07\", \"Value\": 438.1000061035156, \"type\": \"Close\"}, {\"Date\": \"2023-07-10\", \"Value\": 441.7099914550781, \"type\": \"Close\"}, {\"Date\": \"2023-07-11\", \"Value\": 440.2099914550781, \"type\": \"Close\"}, {\"Date\": \"2023-07-12\", \"Value\": 444.04998779296875, \"type\": \"Close\"}, {\"Date\": \"2023-07-13\", \"Value\": 450.3800048828125, \"type\": \"Close\"}, {\"Date\": \"2023-07-14\", \"Value\": 441.9100036621094, \"type\": \"Close\"}, {\"Date\": \"2023-07-17\", \"Value\": 450.04998779296875, \"type\": \"Close\"}, {\"Date\": \"2023-07-18\", \"Value\": 474.79998779296875, \"type\": \"Close\"}, {\"Date\": \"2023-07-19\", \"Value\": 477.5899963378906, \"type\": \"Close\"}, {\"Date\": \"2023-07-20\", \"Value\": 437.4200134277344, \"type\": \"Close\"}, {\"Date\": \"2023-07-21\", \"Value\": 427.5, \"type\": \"Close\"}, {\"Date\": \"2023-07-24\", \"Value\": 428.3699951171875, \"type\": \"Close\"}, {\"Date\": \"2023-07-25\", \"Value\": 427.70001220703125, \"type\": \"Close\"}, {\"Date\": \"2023-07-26\", \"Value\": 422.6700134277344, \"type\": \"Close\"}, {\"Date\": \"2023-07-27\", \"Value\": 413.1700134277344, \"type\": \"Close\"}, {\"Date\": \"2023-07-28\", \"Value\": 425.7799987792969, \"type\": \"Close\"}, {\"Date\": \"2023-07-31\", \"Value\": 438.9700012207031, \"type\": \"Close\"}, {\"Date\": \"2023-08-01\", \"Value\": 438.6199951171875, \"type\": \"Close\"}, {\"Date\": \"2023-08-02\", \"Value\": 429.70001220703125, \"type\": \"Close\"}, {\"Date\": \"2023-08-03\", \"Value\": 431.0, \"type\": \"Close\"}, {\"Date\": \"2023-08-04\", \"Value\": 431.6000061035156, \"type\": \"Close\"}, {\"Date\": \"2023-08-07\", \"Value\": 440.760009765625, \"type\": \"Close\"}, {\"Date\": \"2023-08-08\", \"Value\": 438.29998779296875, \"type\": \"Close\"}, {\"Date\": \"2023-08-09\", \"Value\": 428.8999938964844, \"type\": \"Close\"}, {\"Date\": \"2023-08-10\", \"Value\": 429.9800109863281, \"type\": \"Close\"}, {\"Date\": \"2023-08-11\", \"Value\": 421.6600036621094, \"type\": \"Close\"}, {\"Date\": \"2023-08-14\", \"Value\": 427.7799987792969, \"type\": \"Close\"}, {\"Date\": \"2023-08-15\", \"Value\": 423.70001220703125, \"type\": \"Close\"}, {\"Date\": \"2023-08-16\", \"Value\": 415.45001220703125, \"type\": \"Close\"}, {\"Date\": \"2023-08-17\", \"Value\": 403.0, \"type\": \"Close\"}, {\"Date\": \"2023-08-18\", \"Value\": 404.5299987792969, \"type\": \"Close\"}, {\"Date\": \"2023-08-21\", \"Value\": 408.2900085449219, \"type\": \"Close\"}, {\"Date\": \"2023-08-22\", \"Value\": 413.1700134277344, \"type\": \"Close\"}, {\"Date\": \"2023-08-23\", \"Value\": 427.54998779296875, \"type\": \"Close\"}, {\"Date\": \"2023-08-24\", \"Value\": 406.92999267578125, \"type\": \"Close\"}, {\"Date\": \"2023-08-25\", \"Value\": 416.0299987792969, \"type\": \"Close\"}, {\"Date\": \"2023-08-28\", \"Value\": 418.05999755859375, \"type\": \"Close\"}, {\"Date\": \"2023-08-29\", \"Value\": 429.989990234375, \"type\": \"Close\"}, {\"Date\": \"2023-08-30\", \"Value\": 434.6700134277344, \"type\": \"Close\"}, {\"Date\": \"2023-08-31\", \"Value\": 433.67999267578125, \"type\": \"Close\"}, {\"Date\": \"2023-09-01\", \"Value\": 439.8800048828125, \"type\": \"Close\"}, {\"Date\": \"2023-09-05\", \"Value\": 448.67999267578125, \"type\": \"Close\"}, {\"Date\": \"2023-09-06\", \"Value\": 445.760009765625, \"type\": \"Close\"}, {\"Date\": \"2023-09-07\", \"Value\": 443.1400146484375, \"type\": \"Close\"}, {\"Date\": \"2023-09-08\", \"Value\": 442.79998779296875, \"type\": \"Close\"}, {\"Date\": \"2023-09-11\", \"Value\": 445.3599853515625, \"type\": \"Close\"}, {\"Date\": \"2023-09-12\", \"Value\": 434.69000244140625, \"type\": \"Close\"}, {\"Date\": \"2023-09-13\", \"Value\": 412.239990234375, \"type\": \"Close\"}, {\"Date\": \"2023-09-14\", \"Value\": 400.489990234375, \"type\": \"Close\"}, {\"Date\": \"2023-09-15\", \"Value\": 396.94000244140625, \"type\": \"Close\"}, {\"Date\": \"2023-09-18\", \"Value\": 394.3999938964844, \"type\": \"Close\"}, {\"Date\": \"2023-09-19\", \"Value\": 396.20001220703125, \"type\": \"Close\"}, {\"Date\": \"2023-09-20\", \"Value\": 386.29998779296875, \"type\": \"Close\"}, {\"Date\": \"2023-09-21\", \"Value\": 384.1499938964844, \"type\": \"Close\"}, {\"Date\": \"2023-09-22\", \"Value\": 379.80999755859375, \"type\": \"Close\"}, {\"Date\": \"2023-09-25\", \"Value\": 384.79998779296875, \"type\": \"Close\"}, {\"Date\": \"2023-09-26\", \"Value\": 379.25, \"type\": \"Close\"}, {\"Date\": \"2023-09-27\", \"Value\": 377.5899963378906, \"type\": \"Close\"}, {\"Date\": \"2023-09-28\", \"Value\": 376.3599853515625, \"type\": \"Close\"}, {\"Date\": \"2023-09-29\", \"Value\": 377.6000061035156, \"type\": \"Close\"}, {\"Date\": \"2023-10-02\", \"Value\": 380.3299865722656, \"type\": \"Close\"}, {\"Date\": \"2023-10-03\", \"Value\": 376.75, \"type\": \"Close\"}, {\"Date\": \"2023-10-04\", \"Value\": 376.8999938964844, \"type\": \"Close\"}, {\"Date\": \"2023-10-05\", \"Value\": 372.5899963378906, \"type\": \"Close\"}, {\"Date\": \"2023-10-06\", \"Value\": 381.510009765625, \"type\": \"Close\"}, {\"Date\": \"2023-10-09\", \"Value\": 385.95001220703125, \"type\": \"Close\"}, {\"Date\": \"2023-10-10\", \"Value\": 373.32000732421875, \"type\": \"Close\"}, {\"Date\": \"2023-10-11\", \"Value\": 365.92999267578125, \"type\": \"Close\"}, {\"Date\": \"2023-10-12\", \"Value\": 361.20001220703125, \"type\": \"Close\"}, {\"Date\": \"2023-10-13\", \"Value\": 355.67999267578125, \"type\": \"Close\"}, {\"Date\": \"2023-10-16\", \"Value\": 360.82000732421875, \"type\": \"Close\"}, {\"Date\": \"2023-10-17\", \"Value\": 355.7200012207031, \"type\": \"Close\"}, {\"Date\": \"2023-10-18\", \"Value\": 346.19000244140625, \"type\": \"Close\"}, {\"Date\": \"2023-10-19\", \"Value\": 401.7699890136719, \"type\": \"Close\"}, {\"Date\": \"2023-10-20\", \"Value\": 400.9599914550781, \"type\": \"Close\"}, {\"Date\": \"2023-10-23\", \"Value\": 406.8399963378906, \"type\": \"Close\"}, {\"Date\": \"2023-10-24\", \"Value\": 413.7300109863281, \"type\": \"Close\"}, {\"Date\": \"2023-10-25\", \"Value\": 411.25, \"type\": \"Close\"}, {\"Date\": \"2023-10-26\", \"Value\": 403.5400085449219, \"type\": \"Close\"}, {\"Date\": \"2023-10-27\", \"Value\": 397.8699951171875, \"type\": \"Close\"}, {\"Date\": \"2023-10-30\", \"Value\": 410.0799865722656, \"type\": \"Close\"}, {\"Date\": \"2023-10-31\", \"Value\": 411.69000244140625, \"type\": \"Close\"}, {\"Date\": \"2023-11-01\", \"Value\": 420.19000244140625, \"type\": \"Close\"}, {\"Date\": \"2023-11-02\", \"Value\": 424.7099914550781, \"type\": \"Close\"}, {\"Date\": \"2023-11-03\", \"Value\": 432.3599853515625, \"type\": \"Close\"}, {\"Date\": \"2023-11-06\", \"Value\": 434.739990234375, \"type\": \"Close\"}, {\"Date\": \"2023-11-07\", \"Value\": 434.6099853515625, \"type\": \"Close\"}, {\"Date\": \"2023-11-08\", \"Value\": 436.6499938964844, \"type\": \"Close\"}, {\"Date\": \"2023-11-09\", \"Value\": 435.1499938964844, \"type\": \"Close\"}, {\"Date\": \"2023-11-10\", \"Value\": 447.239990234375, \"type\": \"Close\"}, {\"Date\": \"2023-11-13\", \"Value\": 444.6199951171875, \"type\": \"Close\"}, {\"Date\": \"2023-11-14\", \"Value\": 448.6499938964844, \"type\": \"Close\"}, {\"Date\": \"2023-11-15\", \"Value\": 461.94000244140625, \"type\": \"Close\"}, {\"Date\": \"2023-11-16\", \"Value\": 466.95001220703125, \"type\": \"Close\"}, {\"Date\": \"2023-11-17\", \"Value\": 465.9100036621094, \"type\": \"Close\"}, {\"Date\": \"2023-11-20\", \"Value\": 474.4700012207031, \"type\": \"Close\"}, {\"Date\": \"2023-11-21\", \"Value\": 474.95001220703125, \"type\": \"Close\"}, {\"Date\": \"2023-11-22\", \"Value\": 478.0, \"type\": \"Close\"}, {\"Date\": \"2023-11-24\", \"Value\": 479.55999755859375, \"type\": \"Close\"}, {\"Date\": \"2023-11-27\", \"Value\": 479.1700134277344, \"type\": \"Close\"}, {\"Date\": \"2023-11-28\", \"Value\": 479.0, \"type\": \"Close\"}, {\"Date\": \"2023-11-29\", \"Value\": 477.19000244140625, \"type\": \"Close\"}, {\"Date\": \"2023-11-30\", \"Value\": 473.9700012207031, \"type\": \"Close\"}, {\"Date\": \"2023-12-01\", \"Value\": 465.739990234375, \"type\": \"Close\"}, {\"Date\": \"2023-12-04\", \"Value\": 453.8999938964844, \"type\": \"Close\"}, {\"Date\": \"2023-12-05\", \"Value\": 455.1499938964844, \"type\": \"Close\"}, {\"Date\": \"2023-12-06\", \"Value\": 446.7300109863281, \"type\": \"Close\"}, {\"Date\": \"2023-12-07\", \"Value\": 452.0, \"type\": \"Close\"}, {\"Date\": \"2023-12-08\", \"Value\": 453.760009765625, \"type\": \"Close\"}, {\"Date\": \"2023-12-11\", \"Value\": 459.8900146484375, \"type\": \"Close\"}, {\"Date\": \"2023-12-12\", \"Value\": 463.0, \"type\": \"Close\"}, {\"Date\": \"2023-12-13\", \"Value\": 479.9800109863281, \"type\": \"Close\"}, {\"Date\": \"2023-12-14\", \"Value\": 469.8299865722656, \"type\": \"Close\"}, {\"Date\": \"2023-12-15\", \"Value\": 472.05999755859375, \"type\": \"Close\"}, {\"Date\": \"2023-12-18\", \"Value\": 486.1199951171875, \"type\": \"Close\"}, {\"Date\": \"2023-12-19\", \"Value\": 495.0199890136719, \"type\": \"Close\"}, {\"Date\": \"2023-12-20\", \"Value\": 489.2699890136719, \"type\": \"Close\"}, {\"Date\": \"2023-12-21\", \"Value\": 491.6099853515625, \"type\": \"Close\"}, {\"Date\": \"2023-12-22\", \"Value\": 486.760009765625, \"type\": \"Close\"}, {\"Date\": \"2023-12-26\", \"Value\": 491.19000244140625, \"type\": \"Close\"}, {\"Date\": \"2023-12-27\", \"Value\": 491.7900085449219, \"type\": \"Close\"}, {\"Date\": \"2023-12-28\", \"Value\": 490.510009765625, \"type\": \"Close\"}, {\"Date\": \"2023-12-29\", \"Value\": 486.8800048828125, \"type\": \"Close\"}, {\"Date\": \"2024-01-02\", \"Value\": 468.5, \"type\": \"Close\"}, {\"Date\": \"2024-01-03\", \"Value\": 470.260009765625, \"type\": \"Close\"}, {\"Date\": \"2024-01-04\", \"Value\": 474.6700134277344, \"type\": \"Close\"}, {\"Date\": \"2024-01-05\", \"Value\": 474.05999755859375, \"type\": \"Close\"}, {\"Date\": \"2024-01-08\", \"Value\": 485.0299987792969, \"type\": \"Close\"}, {\"Date\": \"2024-01-09\", \"Value\": 482.0899963378906, \"type\": \"Close\"}, {\"Date\": \"2024-01-10\", \"Value\": 478.3299865722656, \"type\": \"Close\"}, {\"Date\": \"2024-01-11\", \"Value\": 492.2300109863281, \"type\": \"Close\"}, {\"Date\": \"2024-01-12\", \"Value\": 492.1600036621094, \"type\": \"Close\"}, {\"Date\": \"2024-01-16\", \"Value\": 481.239990234375, \"type\": \"Close\"}, {\"Date\": \"2024-01-17\", \"Value\": 480.3299865722656, \"type\": \"Close\"}, {\"Date\": \"2024-01-18\", \"Value\": 485.30999755859375, \"type\": \"Close\"}, {\"Date\": \"2024-01-19\", \"Value\": 482.95001220703125, \"type\": \"Close\"}, {\"Date\": \"2024-01-22\", \"Value\": 485.7099914550781, \"type\": \"Close\"}, {\"Date\": \"2024-01-23\", \"Value\": 492.19000244140625, \"type\": \"Close\"}, {\"Date\": \"2024-01-24\", \"Value\": 544.8699951171875, \"type\": \"Close\"}, {\"Date\": \"2024-01-25\", \"Value\": 562.0, \"type\": \"Close\"}, {\"Date\": \"2024-01-26\", \"Value\": 570.4199829101562, \"type\": \"Close\"}, {\"Date\": \"2024-01-29\", \"Value\": 575.7899780273438, \"type\": \"Close\"}, {\"Date\": \"2024-01-30\", \"Value\": 562.8499755859375, \"type\": \"Close\"}, {\"Date\": \"2024-01-31\", \"Value\": 564.1099853515625, \"type\": \"Close\"}, {\"Date\": \"2024-02-01\", \"Value\": 567.510009765625, \"type\": \"Close\"}, {\"Date\": \"2024-02-02\", \"Value\": 564.6400146484375, \"type\": \"Close\"}, {\"Date\": \"2024-02-05\", \"Value\": 562.0599975585938, \"type\": \"Close\"}, {\"Date\": \"2024-02-06\", \"Value\": 555.8800048828125, \"type\": \"Close\"}, {\"Date\": \"2024-02-07\", \"Value\": 559.2999877929688, \"type\": \"Close\"}, {\"Date\": \"2024-02-08\", \"Value\": 558.530029296875, \"type\": \"Close\"}, {\"Date\": \"2024-02-09\", \"Value\": 561.3200073242188, \"type\": \"Close\"}, {\"Date\": \"2024-02-12\", \"Value\": 557.8499755859375, \"type\": \"Close\"}, {\"Date\": \"2024-02-13\", \"Value\": 554.52001953125, \"type\": \"Close\"}, {\"Date\": \"2024-02-14\", \"Value\": 579.3300170898438, \"type\": \"Close\"}, {\"Date\": \"2024-02-15\", \"Value\": 593.4600219726562, \"type\": \"Close\"}, {\"Date\": \"2024-02-16\", \"Value\": 583.9500122070312, \"type\": \"Close\"}, {\"Date\": \"2023-01-17\", \"Value\": 330.02912747257847, \"type\": \"Prediction\"}, {\"Date\": \"2023-01-18\", \"Value\": 332.7255869667339, \"type\": \"Prediction\"}, {\"Date\": \"2023-01-19\", \"Value\": 326.45236415708973, \"type\": \"Prediction\"}, {\"Date\": \"2023-01-20\", \"Value\": 326.32611491326503, \"type\": \"Prediction\"}, {\"Date\": \"2023-01-23\", \"Value\": 316.1514490857219, \"type\": \"Prediction\"}, {\"Date\": \"2023-01-24\", \"Value\": 341.514282537103, \"type\": \"Prediction\"}, {\"Date\": \"2023-01-25\", \"Value\": 356.9078135424371, \"type\": \"Prediction\"}, {\"Date\": \"2023-01-26\", \"Value\": 363.6139176474205, \"type\": \"Prediction\"}, {\"Date\": \"2023-01-27\", \"Value\": 367.8214683832387, \"type\": \"Prediction\"}, {\"Date\": \"2023-01-30\", \"Value\": 364.97386220640783, \"type\": \"Prediction\"}, {\"Date\": \"2023-01-31\", \"Value\": 360.9074862377743, \"type\": \"Prediction\"}, {\"Date\": \"2023-02-01\", \"Value\": 353.3653973222155, \"type\": \"Prediction\"}, {\"Date\": \"2023-02-02\", \"Value\": 353.83496057857747, \"type\": \"Prediction\"}, {\"Date\": \"2023-02-03\", \"Value\": 361.7190205019374, \"type\": \"Prediction\"}, {\"Date\": \"2023-02-06\", \"Value\": 366.727936825596, \"type\": \"Prediction\"}, {\"Date\": \"2023-02-07\", \"Value\": 365.93276489667346, \"type\": \"Prediction\"}, {\"Date\": \"2023-02-08\", \"Value\": 361.62620123483896, \"type\": \"Prediction\"}, {\"Date\": \"2023-02-09\", \"Value\": 362.90134045675694, \"type\": \"Prediction\"}, {\"Date\": \"2023-02-10\", \"Value\": 366.7016551899032, \"type\": \"Prediction\"}, {\"Date\": \"2023-02-13\", \"Value\": 362.6436397578351, \"type\": \"Prediction\"}, {\"Date\": \"2023-02-14\", \"Value\": 347.85621005386537, \"type\": \"Prediction\"}, {\"Date\": \"2023-02-15\", \"Value\": 358.191684019656, \"type\": \"Prediction\"}, {\"Date\": \"2023-02-16\", \"Value\": 359.9132465020483, \"type\": \"Prediction\"}, {\"Date\": \"2023-02-17\", \"Value\": 361.37093142725723, \"type\": \"Prediction\"}, {\"Date\": \"2023-02-21\", \"Value\": 351.0710325734468, \"type\": \"Prediction\"}, {\"Date\": \"2023-02-22\", \"Value\": 348.0521467300123, \"type\": \"Prediction\"}, {\"Date\": \"2023-02-23\", \"Value\": 337.8487067623236, \"type\": \"Prediction\"}, {\"Date\": \"2023-02-24\", \"Value\": 334.9668611922187, \"type\": \"Prediction\"}, {\"Date\": \"2023-02-27\", \"Value\": 324.0202905554261, \"type\": \"Prediction\"}, {\"Date\": \"2023-02-28\", \"Value\": 317.3613244942449, \"type\": \"Prediction\"}, {\"Date\": \"2023-03-01\", \"Value\": 322.83753027353544, \"type\": \"Prediction\"}, {\"Date\": \"2023-03-02\", \"Value\": 322.15948651207833, \"type\": \"Prediction\"}, {\"Date\": \"2023-03-03\", \"Value\": 313.7629599652759, \"type\": \"Prediction\"}, {\"Date\": \"2023-03-06\", \"Value\": 311.9321867878909, \"type\": \"Prediction\"}, {\"Date\": \"2023-03-07\", \"Value\": 315.072265814594, \"type\": \"Prediction\"}, {\"Date\": \"2023-03-08\", \"Value\": 312.1330181181159, \"type\": \"Prediction\"}, {\"Date\": \"2023-03-09\", \"Value\": 308.5861841820609, \"type\": \"Prediction\"}, {\"Date\": \"2023-03-10\", \"Value\": 311.6814315906401, \"type\": \"Prediction\"}, {\"Date\": \"2023-03-13\", \"Value\": 298.2420419135365, \"type\": \"Prediction\"}, {\"Date\": \"2023-03-14\", \"Value\": 292.92326597953263, \"type\": \"Prediction\"}, {\"Date\": \"2023-03-15\", \"Value\": 293.4856056589993, \"type\": \"Prediction\"}, {\"Date\": \"2023-03-16\", \"Value\": 294.8934814751781, \"type\": \"Prediction\"}, {\"Date\": \"2023-03-17\", \"Value\": 303.50276910318433, \"type\": \"Prediction\"}, {\"Date\": \"2023-03-20\", \"Value\": 309.85866586454983, \"type\": \"Prediction\"}, {\"Date\": \"2023-03-21\", \"Value\": 303.7122031071602, \"type\": \"Prediction\"}, {\"Date\": \"2023-03-22\", \"Value\": 305.07718704625495, \"type\": \"Prediction\"}, {\"Date\": \"2023-03-23\", \"Value\": 305.7686266910433, \"type\": \"Prediction\"}, {\"Date\": \"2023-03-24\", \"Value\": 294.2857444640497, \"type\": \"Prediction\"}, {\"Date\": \"2023-03-27\", \"Value\": 319.46234026433336, \"type\": \"Prediction\"}, {\"Date\": \"2023-03-28\", \"Value\": 328.1262482781071, \"type\": \"Prediction\"}, {\"Date\": \"2023-03-29\", \"Value\": 327.68402880824505, \"type\": \"Prediction\"}, {\"Date\": \"2023-03-30\", \"Value\": 323.656165072708, \"type\": \"Prediction\"}, {\"Date\": \"2023-03-31\", \"Value\": 331.748333375855, \"type\": \"Prediction\"}, {\"Date\": \"2023-04-03\", \"Value\": 338.22032092548744, \"type\": \"Prediction\"}, {\"Date\": \"2023-04-04\", \"Value\": 345.25098384525444, \"type\": \"Prediction\"}, {\"Date\": \"2023-04-05\", \"Value\": 348.1893923285989, \"type\": \"Prediction\"}, {\"Date\": \"2023-04-06\", \"Value\": 346.7995466555243, \"type\": \"Prediction\"}, {\"Date\": \"2023-04-10\", \"Value\": 342.49231579792774, \"type\": \"Prediction\"}, {\"Date\": \"2023-04-11\", \"Value\": 339.4274147751309, \"type\": \"Prediction\"}, {\"Date\": \"2023-04-12\", \"Value\": 339.00095612744906, \"type\": \"Prediction\"}, {\"Date\": \"2023-04-13\", \"Value\": 338.23514750172234, \"type\": \"Prediction\"}, {\"Date\": \"2023-04-14\", \"Value\": 331.26132465780233, \"type\": \"Prediction\"}, {\"Date\": \"2023-04-17\", \"Value\": 345.6919591705167, \"type\": \"Prediction\"}, {\"Date\": \"2023-04-18\", \"Value\": 338.8831527253821, \"type\": \"Prediction\"}, {\"Date\": \"2023-04-19\", \"Value\": 332.91627176775637, \"type\": \"Prediction\"}, {\"Date\": \"2023-04-20\", \"Value\": 333.66743933385305, \"type\": \"Prediction\"}, {\"Date\": \"2023-04-21\", \"Value\": 323.4722917117259, \"type\": \"Prediction\"}, {\"Date\": \"2023-04-24\", \"Value\": 325.2754890110771, \"type\": \"Prediction\"}, {\"Date\": \"2023-04-25\", \"Value\": 327.8922214799063, \"type\": \"Prediction\"}, {\"Date\": \"2023-04-26\", \"Value\": 328.98529276747263, \"type\": \"Prediction\"}, {\"Date\": \"2023-04-27\", \"Value\": 322.7660986840776, \"type\": \"Prediction\"}, {\"Date\": \"2023-04-28\", \"Value\": 321.19667009527166, \"type\": \"Prediction\"}, {\"Date\": \"2023-05-01\", \"Value\": 325.69312563383073, \"type\": \"Prediction\"}, {\"Date\": \"2023-05-02\", \"Value\": 329.7942872414619, \"type\": \"Prediction\"}, {\"Date\": \"2023-05-03\", \"Value\": 324.3140364494718, \"type\": \"Prediction\"}, {\"Date\": \"2023-05-04\", \"Value\": 317.7678887983122, \"type\": \"Prediction\"}, {\"Date\": \"2023-05-05\", \"Value\": 319.2418433666511, \"type\": \"Prediction\"}, {\"Date\": \"2023-05-08\", \"Value\": 320.73084832181513, \"type\": \"Prediction\"}, {\"Date\": \"2023-05-09\", \"Value\": 322.6942895938987, \"type\": \"Prediction\"}, {\"Date\": \"2023-05-10\", \"Value\": 330.93036135556855, \"type\": \"Prediction\"}, {\"Date\": \"2023-05-11\", \"Value\": 332.10929398752506, \"type\": \"Prediction\"}, {\"Date\": \"2023-05-12\", \"Value\": 335.31172753521275, \"type\": \"Prediction\"}, {\"Date\": \"2023-05-15\", \"Value\": 344.4533651472077, \"type\": \"Prediction\"}, {\"Date\": \"2023-05-16\", \"Value\": 340.0511258634783, \"type\": \"Prediction\"}, {\"Date\": \"2023-05-17\", \"Value\": 336.021866900813, \"type\": \"Prediction\"}, {\"Date\": \"2023-05-18\", \"Value\": 333.82042691941103, \"type\": \"Prediction\"}, {\"Date\": \"2023-05-19\", \"Value\": 339.7551428958781, \"type\": \"Prediction\"}, {\"Date\": \"2023-05-22\", \"Value\": 370.2926579759054, \"type\": \"Prediction\"}, {\"Date\": \"2023-05-23\", \"Value\": 365.55412431250664, \"type\": \"Prediction\"}, {\"Date\": \"2023-05-24\", \"Value\": 363.0867365092737, \"type\": \"Prediction\"}, {\"Date\": \"2023-05-25\", \"Value\": 356.2185087877702, \"type\": \"Prediction\"}, {\"Date\": \"2023-05-26\", \"Value\": 364.5584501109358, \"type\": \"Prediction\"}, {\"Date\": \"2023-05-30\", \"Value\": 359.1941907012754, \"type\": \"Prediction\"}, {\"Date\": \"2023-05-31\", \"Value\": 378.20670337515065, \"type\": \"Prediction\"}, {\"Date\": \"2023-06-01\", \"Value\": 392.5266271494461, \"type\": \"Prediction\"}, {\"Date\": \"2023-06-02\", \"Value\": 395.1581623095513, \"type\": \"Prediction\"}, {\"Date\": \"2023-06-05\", \"Value\": 402.87856206155203, \"type\": \"Prediction\"}, {\"Date\": \"2023-06-06\", \"Value\": 400.55495924232815, \"type\": \"Prediction\"}, {\"Date\": \"2023-06-07\", \"Value\": 403.4418133872423, \"type\": \"Prediction\"}, {\"Date\": \"2023-06-08\", \"Value\": 399.4262616661797, \"type\": \"Prediction\"}, {\"Date\": \"2023-06-09\", \"Value\": 399.75459696488184, \"type\": \"Prediction\"}, {\"Date\": \"2023-06-12\", \"Value\": 409.0623995025392, \"type\": \"Prediction\"}, {\"Date\": \"2023-06-13\", \"Value\": 419.6852713546972, \"type\": \"Prediction\"}, {\"Date\": \"2023-06-14\", \"Value\": 423.8469050948034, \"type\": \"Prediction\"}, {\"Date\": \"2023-06-15\", \"Value\": 435.3667387617538, \"type\": \"Prediction\"}, {\"Date\": \"2023-06-16\", \"Value\": 440.7034439432558, \"type\": \"Prediction\"}, {\"Date\": \"2023-06-20\", \"Value\": 445.13601779903615, \"type\": \"Prediction\"}, {\"Date\": \"2023-06-21\", \"Value\": 432.36882790569155, \"type\": \"Prediction\"}, {\"Date\": \"2023-06-22\", \"Value\": 434.615354981402, \"type\": \"Prediction\"}, {\"Date\": \"2023-06-23\", \"Value\": 424.7683587719554, \"type\": \"Prediction\"}, {\"Date\": \"2023-06-26\", \"Value\": 422.5409276733158, \"type\": \"Prediction\"}, {\"Date\": \"2023-06-27\", \"Value\": 423.9723435321593, \"type\": \"Prediction\"}, {\"Date\": \"2023-06-28\", \"Value\": 416.1905693301141, \"type\": \"Prediction\"}, {\"Date\": \"2023-06-29\", \"Value\": 417.0445872465071, \"type\": \"Prediction\"}, {\"Date\": \"2023-06-30\", \"Value\": 429.4448458073939, \"type\": \"Prediction\"}, {\"Date\": \"2023-07-03\", \"Value\": 428.28968150614975, \"type\": \"Prediction\"}, {\"Date\": \"2023-07-05\", \"Value\": 440.10815807337013, \"type\": \"Prediction\"}, {\"Date\": \"2023-07-06\", \"Value\": 441.41048028812287, \"type\": \"Prediction\"}, {\"Date\": \"2023-07-07\", \"Value\": 445.76150725631675, \"type\": \"Prediction\"}, {\"Date\": \"2023-07-10\", \"Value\": 439.0604765094129, \"type\": \"Prediction\"}, {\"Date\": \"2023-07-11\", \"Value\": 438.12308660350607, \"type\": \"Prediction\"}, {\"Date\": \"2023-07-12\", \"Value\": 441.597339558781, \"type\": \"Prediction\"}, {\"Date\": \"2023-07-13\", \"Value\": 440.25684337773856, \"type\": \"Prediction\"}, {\"Date\": \"2023-07-14\", \"Value\": 443.92992058506877, \"type\": \"Prediction\"}, {\"Date\": \"2023-07-17\", \"Value\": 450.1829876380183, \"type\": \"Prediction\"}, {\"Date\": \"2023-07-18\", \"Value\": 442.1761910910851, \"type\": \"Prediction\"}, {\"Date\": \"2023-07-19\", \"Value\": 449.7910342199858, \"type\": \"Prediction\"}, {\"Date\": \"2023-07-20\", \"Value\": 474.0417403411529, \"type\": \"Prediction\"}, {\"Date\": \"2023-07-21\", \"Value\": 477.5059316875395, \"type\": \"Prediction\"}, {\"Date\": \"2023-07-24\", \"Value\": 438.65621210978594, \"type\": \"Prediction\"}, {\"Date\": \"2023-07-25\", \"Value\": 427.77992092481935, \"type\": \"Prediction\"}, {\"Date\": \"2023-07-26\", \"Value\": 428.34541674102536, \"type\": \"Prediction\"}, {\"Date\": \"2023-07-27\", \"Value\": 427.7189421564027, \"type\": \"Prediction\"}, {\"Date\": \"2023-07-28\", \"Value\": 422.8120359383091, \"type\": \"Prediction\"}, {\"Date\": \"2023-07-31\", \"Value\": 413.4356205993426, \"type\": \"Prediction\"}, {\"Date\": \"2023-08-01\", \"Value\": 425.4190163599338, \"type\": \"Prediction\"}, {\"Date\": \"2023-08-02\", \"Value\": 438.6052439240033, \"type\": \"Prediction\"}, {\"Date\": \"2023-08-03\", \"Value\": 438.6296738211404, \"type\": \"Prediction\"}, {\"Date\": \"2023-08-04\", \"Value\": 429.94651755763954, \"type\": \"Prediction\"}, {\"Date\": \"2023-08-07\", \"Value\": 430.9640051691333, \"type\": \"Prediction\"}, {\"Date\": \"2023-08-08\", \"Value\": 431.58339559304756, \"type\": \"Prediction\"}, {\"Date\": \"2023-08-09\", \"Value\": 440.50671181011296, \"type\": \"Prediction\"}, {\"Date\": \"2023-08-10\", \"Value\": 438.3682962882895, \"type\": \"Prediction\"}, {\"Date\": \"2023-08-11\", \"Value\": 429.15976379220035, \"type\": \"Prediction\"}, {\"Date\": \"2023-08-14\", \"Value\": 429.95011731147247, \"type\": \"Prediction\"}, {\"Date\": \"2023-08-15\", \"Value\": 421.8907151623156, \"type\": \"Prediction\"}, {\"Date\": \"2023-08-16\", \"Value\": 427.6085911090512, \"type\": \"Prediction\"}, {\"Date\": \"2023-08-17\", \"Value\": 423.81483749903185, \"type\": \"Prediction\"}, {\"Date\": \"2023-08-18\", \"Value\": 415.68059893426005, \"type\": \"Prediction\"}, {\"Date\": \"2023-08-21\", \"Value\": 403.34058942526366, \"type\": \"Prediction\"}, {\"Date\": \"2023-08-22\", \"Value\": 404.4880149138742, \"type\": \"Prediction\"}, {\"Date\": \"2023-08-23\", \"Value\": 408.1869560690676, \"type\": \"Prediction\"}, {\"Date\": \"2023-08-24\", \"Value\": 413.0367827261555, \"type\": \"Prediction\"}, {\"Date\": \"2023-08-25\", \"Value\": 427.163165340899, \"type\": \"Prediction\"}, {\"Date\": \"2023-08-28\", \"Value\": 407.5186190822735, \"type\": \"Prediction\"}, {\"Date\": \"2023-08-29\", \"Value\": 415.7612110643738, \"type\": \"Prediction\"}, {\"Date\": \"2023-08-30\", \"Value\": 418.00027691039116, \"type\": \"Prediction\"}, {\"Date\": \"2023-08-31\", \"Value\": 429.64065965469064, \"type\": \"Prediction\"}, {\"Date\": \"2023-09-01\", \"Value\": 434.5345575140633, \"type\": \"Prediction\"}, {\"Date\": \"2023-09-05\", \"Value\": 433.70866959738, \"type\": \"Prediction\"}, {\"Date\": \"2023-09-06\", \"Value\": 439.70020189238807, \"type\": \"Prediction\"}, {\"Date\": \"2023-09-07\", \"Value\": 448.4275506013179, \"type\": \"Prediction\"}, {\"Date\": \"2023-09-08\", \"Value\": 445.84416040560535, \"type\": \"Prediction\"}, {\"Date\": \"2023-09-11\", \"Value\": 443.2154034586087, \"type\": \"Prediction\"}, {\"Date\": \"2023-09-12\", \"Value\": 442.8097697832263, \"type\": \"Prediction\"}, {\"Date\": \"2023-09-13\", \"Value\": 445.2863260791251, \"type\": \"Prediction\"}, {\"Date\": \"2023-09-14\", \"Value\": 434.99864201222954, \"type\": \"Prediction\"}, {\"Date\": \"2023-09-15\", \"Value\": 412.8586886619467, \"type\": \"Prediction\"}, {\"Date\": \"2023-09-18\", \"Value\": 400.7954929809018, \"type\": \"Prediction\"}, {\"Date\": \"2023-09-19\", \"Value\": 397.03140092619765, \"type\": \"Prediction\"}, {\"Date\": \"2023-09-20\", \"Value\": 394.4652562627304, \"type\": \"Prediction\"}, {\"Date\": \"2023-09-21\", \"Value\": 396.15371847486904, \"type\": \"Prediction\"}, {\"Date\": \"2023-09-22\", \"Value\": 386.55558602372747, \"type\": \"Prediction\"}, {\"Date\": \"2023-09-25\", \"Value\": 384.205215316208, \"type\": \"Prediction\"}, {\"Date\": \"2023-09-26\", \"Value\": 379.9212381633352, \"type\": \"Prediction\"}, {\"Date\": \"2023-09-27\", \"Value\": 384.6714947338738, \"type\": \"Prediction\"}, {\"Date\": \"2023-09-28\", \"Value\": 379.39375441798, \"type\": \"Prediction\"}, {\"Date\": \"2023-09-29\", \"Value\": 377.63290025349767, \"type\": \"Prediction\"}, {\"Date\": \"2023-10-02\", \"Value\": 376.39176126679223, \"type\": \"Prediction\"}, {\"Date\": \"2023-10-03\", \"Value\": 377.5679612608341, \"type\": \"Prediction\"}, {\"Date\": \"2023-10-04\", \"Value\": 380.25949027576365, \"type\": \"Prediction\"}, {\"Date\": \"2023-10-05\", \"Value\": 376.8426381771064, \"type\": \"Prediction\"}, {\"Date\": \"2023-10-06\", \"Value\": 376.8961123781526, \"type\": \"Prediction\"}, {\"Date\": \"2023-10-09\", \"Value\": 372.70154539595615, \"type\": \"Prediction\"}, {\"Date\": \"2023-10-10\", \"Value\": 381.277250034716, \"type\": \"Prediction\"}, {\"Date\": \"2023-10-11\", \"Value\": 385.8351904346699, \"type\": \"Prediction\"}, {\"Date\": \"2023-10-12\", \"Value\": 373.65055712763564, \"type\": \"Prediction\"}, {\"Date\": \"2023-10-13\", \"Value\": 366.11937214427144, \"type\": \"Prediction\"}, {\"Date\": \"2023-10-16\", \"Value\": 361.32026314764823, \"type\": \"Prediction\"}, {\"Date\": \"2023-10-17\", \"Value\": 355.8195056167584, \"type\": \"Prediction\"}, {\"Date\": \"2023-10-18\", \"Value\": 360.68930557555825, \"type\": \"Prediction\"}, {\"Date\": \"2023-10-19\", \"Value\": 355.8504136509967, \"type\": \"Prediction\"}, {\"Date\": \"2023-10-20\", \"Value\": 346.4310706251802, \"type\": \"Prediction\"}, {\"Date\": \"2023-10-23\", \"Value\": 400.20037226583804, \"type\": \"Prediction\"}, {\"Date\": \"2023-10-24\", \"Value\": 400.98267833224526, \"type\": \"Prediction\"}, {\"Date\": \"2023-10-25\", \"Value\": 406.6751525876843, \"type\": \"Prediction\"}, {\"Date\": \"2023-10-26\", \"Value\": 413.53842099347406, \"type\": \"Prediction\"}, {\"Date\": \"2023-10-27\", \"Value\": 411.3191760447324, \"type\": \"Prediction\"}, {\"Date\": \"2023-10-30\", \"Value\": 403.75425044820315, \"type\": \"Prediction\"}, {\"Date\": \"2023-10-31\", \"Value\": 398.0261397674352, \"type\": \"Prediction\"}, {\"Date\": \"2023-11-01\", \"Value\": 409.7391624888912, \"type\": \"Prediction\"}, {\"Date\": \"2023-11-02\", \"Value\": 411.64527139227584, \"type\": \"Prediction\"}, {\"Date\": \"2023-11-03\", \"Value\": 419.95448795856834, \"type\": \"Prediction\"}, {\"Date\": \"2023-11-06\", \"Value\": 424.58575441098776, \"type\": \"Prediction\"}, {\"Date\": \"2023-11-07\", \"Value\": 432.15118909837474, \"type\": \"Prediction\"}, {\"Date\": \"2023-11-08\", \"Value\": 434.6752893162281, \"type\": \"Prediction\"}, {\"Date\": \"2023-11-09\", \"Value\": 434.61351967266904, \"type\": \"Prediction\"}, {\"Date\": \"2023-11-10\", \"Value\": 436.5945311164692, \"type\": \"Prediction\"}, {\"Date\": \"2023-11-13\", \"Value\": 435.1907993992752, \"type\": \"Prediction\"}, {\"Date\": \"2023-11-14\", \"Value\": 446.90990167028144, \"type\": \"Prediction\"}, {\"Date\": \"2023-11-15\", \"Value\": 444.6919246877142, \"type\": \"Prediction\"}, {\"Date\": \"2023-11-16\", \"Value\": 448.5391252926963, \"type\": \"Prediction\"}, {\"Date\": \"2023-11-17\", \"Value\": 461.57831003148334, \"type\": \"Prediction\"}, {\"Date\": \"2023-11-20\", \"Value\": 466.8156177741216, \"type\": \"Prediction\"}, {\"Date\": \"2023-11-21\", \"Value\": 465.93792787527934, \"type\": \"Prediction\"}, {\"Date\": \"2023-11-22\", \"Value\": 474.2397503814575, \"type\": \"Prediction\"}, {\"Date\": \"2023-11-24\", \"Value\": 474.9371165857595, \"type\": \"Prediction\"}, {\"Date\": \"2023-11-27\", \"Value\": 477.9180857451567, \"type\": \"Prediction\"}, {\"Date\": \"2023-11-28\", \"Value\": 479.5181429870095, \"type\": \"Prediction\"}, {\"Date\": \"2023-11-29\", \"Value\": 479.1804778218802, \"type\": \"Prediction\"}, {\"Date\": \"2023-11-30\", \"Value\": 479.00456188480393, \"type\": \"Prediction\"}, {\"Date\": \"2023-12-01\", \"Value\": 477.2385661624045, \"type\": \"Prediction\"}, {\"Date\": \"2023-12-04\", \"Value\": 474.056292475285, \"type\": \"Prediction\"}, {\"Date\": \"2023-12-05\", \"Value\": 465.9593386400189, \"type\": \"Prediction\"}, {\"Date\": \"2023-12-06\", \"Value\": 454.2091408516254, \"type\": \"Prediction\"}, {\"Date\": \"2023-12-07\", \"Value\": 455.11727994839305, \"type\": \"Prediction\"}, {\"Date\": \"2023-12-08\", \"Value\": 446.9508532426927, \"type\": \"Prediction\"}, {\"Date\": \"2023-12-11\", \"Value\": 451.86055513005596, \"type\": \"Prediction\"}, {\"Date\": \"2023-12-12\", \"Value\": 453.71353563391364, \"type\": \"Prediction\"}, {\"Date\": \"2023-12-13\", \"Value\": 459.728511433731, \"type\": \"Prediction\"}, {\"Date\": \"2023-12-14\", \"Value\": 462.918403222308, \"type\": \"Prediction\"}, {\"Date\": \"2023-12-15\", \"Value\": 479.5394177218546, \"type\": \"Prediction\"}, {\"Date\": \"2023-12-18\", \"Value\": 470.1024637379868, \"type\": \"Prediction\"}, {\"Date\": \"2023-12-19\", \"Value\": 471.99989196445057, \"type\": \"Prediction\"}, {\"Date\": \"2023-12-20\", \"Value\": 485.74344368245033, \"type\": \"Prediction\"}, {\"Date\": \"2023-12-21\", \"Value\": 494.787938757394, \"type\": \"Prediction\"}, {\"Date\": \"2023-12-22\", \"Value\": 489.4214427959058, \"type\": \"Prediction\"}, {\"Date\": \"2023-12-26\", \"Value\": 491.5481904361188, \"type\": \"Prediction\"}, {\"Date\": \"2023-12-27\", \"Value\": 486.888383612234, \"type\": \"Prediction\"}, {\"Date\": \"2023-12-28\", \"Value\": 491.07224332130914, \"type\": \"Prediction\"}, {\"Date\": \"2023-12-29\", \"Value\": 491.77406939200955, \"type\": \"Prediction\"}, {\"Date\": \"2024-01-02\", \"Value\": 490.5440181957067, \"type\": \"Prediction\"}, {\"Date\": \"2024-01-03\", \"Value\": 486.97635849640795, \"type\": \"Prediction\"}, {\"Date\": \"2024-01-04\", \"Value\": 468.9811803166346, \"type\": \"Prediction\"}, {\"Date\": \"2024-01-05\", \"Value\": 470.2137093971522, \"type\": \"Prediction\"}, {\"Date\": \"2024-01-08\", \"Value\": 474.5541873574449, \"type\": \"Prediction\"}, {\"Date\": \"2024-01-09\", \"Value\": 474.076026462202, \"type\": \"Prediction\"}, {\"Date\": \"2024-01-10\", \"Value\": 484.74135175160666, \"type\": \"Prediction\"}, {\"Date\": \"2024-01-11\", \"Value\": 482.1678177919554, \"type\": \"Prediction\"}, {\"Date\": \"2024-01-12\", \"Value\": 478.42928385353906, \"type\": \"Prediction\"}, {\"Date\": \"2024-01-16\", \"Value\": 491.8590240692007, \"type\": \"Prediction\"}, {\"Date\": \"2024-01-17\", \"Value\": 492.1618705492931, \"type\": \"Prediction\"}, {\"Date\": \"2024-01-18\", \"Value\": 481.53114925949336, \"type\": \"Prediction\"}, {\"Date\": \"2024-01-19\", \"Value\": 480.35418538460243, \"type\": \"Prediction\"}, {\"Date\": \"2024-01-22\", \"Value\": 485.1774477360256, \"type\": \"Prediction\"}, {\"Date\": \"2024-01-23\", \"Value\": 483.0129679223491, \"type\": \"Prediction\"}, {\"Date\": \"2024-01-24\", \"Value\": 485.6362704344278, \"type\": \"Prediction\"}, {\"Date\": \"2024-01-25\", \"Value\": 492.01754999775545, \"type\": \"Prediction\"}, {\"Date\": \"2024-01-26\", \"Value\": 543.5655061832429, \"type\": \"Prediction\"}, {\"Date\": \"2024-01-29\", \"Value\": 561.6643537999123, \"type\": \"Prediction\"}, {\"Date\": \"2024-01-30\", \"Value\": 570.2617114960642, \"type\": \"Prediction\"}, {\"Date\": \"2024-01-31\", \"Value\": 575.6903651963137, \"type\": \"Prediction\"}, {\"Date\": \"2024-02-01\", \"Value\": 563.0947491008575, \"type\": \"Prediction\"}, {\"Date\": \"2024-02-02\", \"Value\": 564.0860631567635, \"type\": \"Prediction\"}, {\"Date\": \"2024-02-05\", \"Value\": 567.4455356435232, \"type\": \"Prediction\"}, {\"Date\": \"2024-02-06\", \"Value\": 564.6945831697934, \"type\": \"Prediction\"}, {\"Date\": \"2024-02-07\", \"Value\": 562.1089491260194, \"type\": \"Prediction\"}, {\"Date\": \"2024-02-08\", \"Value\": 555.9967332049487, \"type\": \"Prediction\"}, {\"Date\": \"2024-02-09\", \"Value\": 559.2350205129275, \"type\": \"Prediction\"}, {\"Date\": \"2024-02-12\", \"Value\": 558.5446655697601, \"type\": \"Prediction\"}, {\"Date\": \"2024-02-13\", \"Value\": 561.2669405105601, \"type\": \"Prediction\"}, {\"Date\": \"2024-02-14\", \"Value\": 557.9161528305751, \"type\": \"Prediction\"}, {\"Date\": \"2024-02-15\", \"Value\": 554.5833173072133, \"type\": \"Prediction\"}, {\"Date\": \"2024-02-16\", \"Value\": 578.8475752308848, \"type\": \"Prediction\"}]}}, {\"mode\": \"vega-lite\"});\n",
       "</script>"
      ],
      "text/plain": [
       "alt.Chart(...)"
      ]
     },
     "execution_count": 96,
     "metadata": {},
     "output_type": "execute_result"
    }
   ],
   "source": [
    "alt.Chart(tmp).mark_line().encode(\n",
    "    x=\"Date:T\",\n",
    "    y=\"Value:Q\",\n",
    "    color='type:N'\n",
    ").properties(\n",
    "    width = 1200,\n",
    "    height = 400,\n",
    "    title=\"Stock prices for Netflix\",\n",
    ").interactive()"
   ]
  },
  {
   "cell_type": "markdown",
   "id": "e578d464-03b3-4193-bf22-7f236b660cf6",
   "metadata": {},
   "source": []
  }
 ],
 "metadata": {
  "kernelspec": {
   "display_name": "Python 3 (ipykernel)",
   "language": "python",
   "name": "python3"
  },
  "language_info": {
   "codemirror_mode": {
    "name": "ipython",
    "version": 3
   },
   "file_extension": ".py",
   "mimetype": "text/x-python",
   "name": "python",
   "nbconvert_exporter": "python",
   "pygments_lexer": "ipython3",
   "version": "3.11.7"
  }
 },
 "nbformat": 4,
 "nbformat_minor": 5
}
